{
  "cells": [
    {
      "cell_type": "markdown",
      "id": "31cad07c",
      "metadata": {
        "id": "31cad07c"
      },
      "source": [
        "# 1. Introduction\n",
        "\n",
        "In this project, we'll build a multilabel classifier to classify Disaster event related messages into appropriate categories. This can can help tell us about the nature of the event so that the message can be routed to the correct organizations, enabling faster mobilization of resources.\n",
        "\n",
        "The project will be divided into two separate modules: \"Extract, Transformer, Load\" and Machine Learning. As you'll see, the initial data for the project is not clean. We'll take this opportunity to showcase some basic ETL skills, and save the clean data to a Sqlite database, which can then be loaded by the ML pipeline. Finally, we will train an XGBoost classifier to predict the labels fo new messages.\n",
        "\n",
        "This is a walkthrough notebook of the project. The finished scripts, and a web app with a user interface to allow message classification can be found [here](https://github.com/alex-coch/alex-coch.github.io/tree/main/message).\n",
        "\n",
        "*Note: This project is available as part of some Udacity nanodegrees.*"
      ]
    },
    {
      "cell_type": "code",
      "execution_count": null,
      "id": "79997438",
      "metadata": {
        "id": "79997438"
      },
      "outputs": [],
      "source": [
        "import pandas as pd\n",
        "import matplotlib\n",
        "from sqlalchemy import create_engine"
      ]
    },
    {
      "cell_type": "markdown",
      "id": "fcc67d46",
      "metadata": {
        "id": "fcc67d46"
      },
      "source": [
        "# 2. Data\n",
        "\n",
        "Data is available to us in two different files: `disaster_messages.csv` and `disaster_categories.csv`.\n",
        "\n",
        "Let's load these two datasets and take a look at their first few rows.\n"
      ]
    },
    {
      "cell_type": "code",
      "execution_count": null,
      "id": "a525f371",
      "metadata": {
        "id": "a525f371"
      },
      "outputs": [],
      "source": [
        "categories = pd.read_csv('https://raw.githubusercontent.com/alex-coch/alex-coch.github.io/main/message/data/disaster_categories.csv')\n",
        "messages = pd.read_csv('https://raw.githubusercontent.com/alex-coch/alex-coch.github.io/main/message/data/disaster_messages.csv')"
      ]
    },
    {
      "cell_type": "code",
      "execution_count": null,
      "id": "bbc5f80e",
      "metadata": {
        "colab": {
          "base_uri": "https://localhost:8080/",
          "height": 206
        },
        "id": "bbc5f80e",
        "outputId": "69b6188f-046f-42ee-9909-3f83846e2f03"
      },
      "outputs": [
        {
          "output_type": "execute_result",
          "data": {
            "text/plain": [
              "   id                                            message  \\\n",
              "0   2  Weather update - a cold front from Cuba that c...   \n",
              "1   7            Is the Hurricane over or is it not over   \n",
              "2   8                    Looking for someone but no name   \n",
              "3   9  UN reports Leogane 80-90 destroyed. Only Hospi...   \n",
              "4  12  says: west side of Haiti, rest of the country ...   \n",
              "\n",
              "                                            original   genre  \n",
              "0  Un front froid se retrouve sur Cuba ce matin. ...  direct  \n",
              "1                 Cyclone nan fini osinon li pa fini  direct  \n",
              "2  Patnm, di Maryani relem pou li banm nouvel li ...  direct  \n",
              "3  UN reports Leogane 80-90 destroyed. Only Hospi...  direct  \n",
              "4  facade ouest d Haiti et le reste du pays aujou...  direct  "
            ],
            "text/html": [
              "\n",
              "  <div id=\"df-4286bc31-72d7-4d59-82d1-9786779c6a4d\">\n",
              "    <div class=\"colab-df-container\">\n",
              "      <div>\n",
              "<style scoped>\n",
              "    .dataframe tbody tr th:only-of-type {\n",
              "        vertical-align: middle;\n",
              "    }\n",
              "\n",
              "    .dataframe tbody tr th {\n",
              "        vertical-align: top;\n",
              "    }\n",
              "\n",
              "    .dataframe thead th {\n",
              "        text-align: right;\n",
              "    }\n",
              "</style>\n",
              "<table border=\"1\" class=\"dataframe\">\n",
              "  <thead>\n",
              "    <tr style=\"text-align: right;\">\n",
              "      <th></th>\n",
              "      <th>id</th>\n",
              "      <th>message</th>\n",
              "      <th>original</th>\n",
              "      <th>genre</th>\n",
              "    </tr>\n",
              "  </thead>\n",
              "  <tbody>\n",
              "    <tr>\n",
              "      <th>0</th>\n",
              "      <td>2</td>\n",
              "      <td>Weather update - a cold front from Cuba that c...</td>\n",
              "      <td>Un front froid se retrouve sur Cuba ce matin. ...</td>\n",
              "      <td>direct</td>\n",
              "    </tr>\n",
              "    <tr>\n",
              "      <th>1</th>\n",
              "      <td>7</td>\n",
              "      <td>Is the Hurricane over or is it not over</td>\n",
              "      <td>Cyclone nan fini osinon li pa fini</td>\n",
              "      <td>direct</td>\n",
              "    </tr>\n",
              "    <tr>\n",
              "      <th>2</th>\n",
              "      <td>8</td>\n",
              "      <td>Looking for someone but no name</td>\n",
              "      <td>Patnm, di Maryani relem pou li banm nouvel li ...</td>\n",
              "      <td>direct</td>\n",
              "    </tr>\n",
              "    <tr>\n",
              "      <th>3</th>\n",
              "      <td>9</td>\n",
              "      <td>UN reports Leogane 80-90 destroyed. Only Hospi...</td>\n",
              "      <td>UN reports Leogane 80-90 destroyed. Only Hospi...</td>\n",
              "      <td>direct</td>\n",
              "    </tr>\n",
              "    <tr>\n",
              "      <th>4</th>\n",
              "      <td>12</td>\n",
              "      <td>says: west side of Haiti, rest of the country ...</td>\n",
              "      <td>facade ouest d Haiti et le reste du pays aujou...</td>\n",
              "      <td>direct</td>\n",
              "    </tr>\n",
              "  </tbody>\n",
              "</table>\n",
              "</div>\n",
              "      <button class=\"colab-df-convert\" onclick=\"convertToInteractive('df-4286bc31-72d7-4d59-82d1-9786779c6a4d')\"\n",
              "              title=\"Convert this dataframe to an interactive table.\"\n",
              "              style=\"display:none;\">\n",
              "        \n",
              "  <svg xmlns=\"http://www.w3.org/2000/svg\" height=\"24px\"viewBox=\"0 0 24 24\"\n",
              "       width=\"24px\">\n",
              "    <path d=\"M0 0h24v24H0V0z\" fill=\"none\"/>\n",
              "    <path d=\"M18.56 5.44l.94 2.06.94-2.06 2.06-.94-2.06-.94-.94-2.06-.94 2.06-2.06.94zm-11 1L8.5 8.5l.94-2.06 2.06-.94-2.06-.94L8.5 2.5l-.94 2.06-2.06.94zm10 10l.94 2.06.94-2.06 2.06-.94-2.06-.94-.94-2.06-.94 2.06-2.06.94z\"/><path d=\"M17.41 7.96l-1.37-1.37c-.4-.4-.92-.59-1.43-.59-.52 0-1.04.2-1.43.59L10.3 9.45l-7.72 7.72c-.78.78-.78 2.05 0 2.83L4 21.41c.39.39.9.59 1.41.59.51 0 1.02-.2 1.41-.59l7.78-7.78 2.81-2.81c.8-.78.8-2.07 0-2.86zM5.41 20L4 18.59l7.72-7.72 1.47 1.35L5.41 20z\"/>\n",
              "  </svg>\n",
              "      </button>\n",
              "      \n",
              "  <style>\n",
              "    .colab-df-container {\n",
              "      display:flex;\n",
              "      flex-wrap:wrap;\n",
              "      gap: 12px;\n",
              "    }\n",
              "\n",
              "    .colab-df-convert {\n",
              "      background-color: #E8F0FE;\n",
              "      border: none;\n",
              "      border-radius: 50%;\n",
              "      cursor: pointer;\n",
              "      display: none;\n",
              "      fill: #1967D2;\n",
              "      height: 32px;\n",
              "      padding: 0 0 0 0;\n",
              "      width: 32px;\n",
              "    }\n",
              "\n",
              "    .colab-df-convert:hover {\n",
              "      background-color: #E2EBFA;\n",
              "      box-shadow: 0px 1px 2px rgba(60, 64, 67, 0.3), 0px 1px 3px 1px rgba(60, 64, 67, 0.15);\n",
              "      fill: #174EA6;\n",
              "    }\n",
              "\n",
              "    [theme=dark] .colab-df-convert {\n",
              "      background-color: #3B4455;\n",
              "      fill: #D2E3FC;\n",
              "    }\n",
              "\n",
              "    [theme=dark] .colab-df-convert:hover {\n",
              "      background-color: #434B5C;\n",
              "      box-shadow: 0px 1px 3px 1px rgba(0, 0, 0, 0.15);\n",
              "      filter: drop-shadow(0px 1px 2px rgba(0, 0, 0, 0.3));\n",
              "      fill: #FFFFFF;\n",
              "    }\n",
              "  </style>\n",
              "\n",
              "      <script>\n",
              "        const buttonEl =\n",
              "          document.querySelector('#df-4286bc31-72d7-4d59-82d1-9786779c6a4d button.colab-df-convert');\n",
              "        buttonEl.style.display =\n",
              "          google.colab.kernel.accessAllowed ? 'block' : 'none';\n",
              "\n",
              "        async function convertToInteractive(key) {\n",
              "          const element = document.querySelector('#df-4286bc31-72d7-4d59-82d1-9786779c6a4d');\n",
              "          const dataTable =\n",
              "            await google.colab.kernel.invokeFunction('convertToInteractive',\n",
              "                                                     [key], {});\n",
              "          if (!dataTable) return;\n",
              "\n",
              "          const docLinkHtml = 'Like what you see? Visit the ' +\n",
              "            '<a target=\"_blank\" href=https://colab.research.google.com/notebooks/data_table.ipynb>data table notebook</a>'\n",
              "            + ' to learn more about interactive tables.';\n",
              "          element.innerHTML = '';\n",
              "          dataTable['output_type'] = 'display_data';\n",
              "          await google.colab.output.renderOutput(dataTable, element);\n",
              "          const docLink = document.createElement('div');\n",
              "          docLink.innerHTML = docLinkHtml;\n",
              "          element.appendChild(docLink);\n",
              "        }\n",
              "      </script>\n",
              "    </div>\n",
              "  </div>\n",
              "  "
            ]
          },
          "metadata": {},
          "execution_count": 3
        }
      ],
      "source": [
        "messages.head()"
      ]
    },
    {
      "cell_type": "markdown",
      "id": "d62564c9",
      "metadata": {
        "id": "d62564c9"
      },
      "source": [
        "We're only interested in the `message` column from the `disaster_messages` dataset. We'll use that column to train our message classifier, and ignore the other columns."
      ]
    },
    {
      "cell_type": "code",
      "execution_count": null,
      "id": "2eb2b0ab",
      "metadata": {
        "colab": {
          "base_uri": "https://localhost:8080/",
          "height": 206
        },
        "id": "2eb2b0ab",
        "outputId": "0a37e791-f59d-4330-927b-1687b2d7b68e"
      },
      "outputs": [
        {
          "output_type": "execute_result",
          "data": {
            "text/plain": [
              "   id                                         categories\n",
              "0   2  related-1;request-0;offer-0;aid_related-0;medi...\n",
              "1   7  related-1;request-0;offer-0;aid_related-1;medi...\n",
              "2   8  related-1;request-0;offer-0;aid_related-0;medi...\n",
              "3   9  related-1;request-1;offer-0;aid_related-1;medi...\n",
              "4  12  related-1;request-0;offer-0;aid_related-0;medi..."
            ],
            "text/html": [
              "\n",
              "  <div id=\"df-616d6aba-7e97-427a-aef8-df3e2defbeb3\">\n",
              "    <div class=\"colab-df-container\">\n",
              "      <div>\n",
              "<style scoped>\n",
              "    .dataframe tbody tr th:only-of-type {\n",
              "        vertical-align: middle;\n",
              "    }\n",
              "\n",
              "    .dataframe tbody tr th {\n",
              "        vertical-align: top;\n",
              "    }\n",
              "\n",
              "    .dataframe thead th {\n",
              "        text-align: right;\n",
              "    }\n",
              "</style>\n",
              "<table border=\"1\" class=\"dataframe\">\n",
              "  <thead>\n",
              "    <tr style=\"text-align: right;\">\n",
              "      <th></th>\n",
              "      <th>id</th>\n",
              "      <th>categories</th>\n",
              "    </tr>\n",
              "  </thead>\n",
              "  <tbody>\n",
              "    <tr>\n",
              "      <th>0</th>\n",
              "      <td>2</td>\n",
              "      <td>related-1;request-0;offer-0;aid_related-0;medi...</td>\n",
              "    </tr>\n",
              "    <tr>\n",
              "      <th>1</th>\n",
              "      <td>7</td>\n",
              "      <td>related-1;request-0;offer-0;aid_related-1;medi...</td>\n",
              "    </tr>\n",
              "    <tr>\n",
              "      <th>2</th>\n",
              "      <td>8</td>\n",
              "      <td>related-1;request-0;offer-0;aid_related-0;medi...</td>\n",
              "    </tr>\n",
              "    <tr>\n",
              "      <th>3</th>\n",
              "      <td>9</td>\n",
              "      <td>related-1;request-1;offer-0;aid_related-1;medi...</td>\n",
              "    </tr>\n",
              "    <tr>\n",
              "      <th>4</th>\n",
              "      <td>12</td>\n",
              "      <td>related-1;request-0;offer-0;aid_related-0;medi...</td>\n",
              "    </tr>\n",
              "  </tbody>\n",
              "</table>\n",
              "</div>\n",
              "      <button class=\"colab-df-convert\" onclick=\"convertToInteractive('df-616d6aba-7e97-427a-aef8-df3e2defbeb3')\"\n",
              "              title=\"Convert this dataframe to an interactive table.\"\n",
              "              style=\"display:none;\">\n",
              "        \n",
              "  <svg xmlns=\"http://www.w3.org/2000/svg\" height=\"24px\"viewBox=\"0 0 24 24\"\n",
              "       width=\"24px\">\n",
              "    <path d=\"M0 0h24v24H0V0z\" fill=\"none\"/>\n",
              "    <path d=\"M18.56 5.44l.94 2.06.94-2.06 2.06-.94-2.06-.94-.94-2.06-.94 2.06-2.06.94zm-11 1L8.5 8.5l.94-2.06 2.06-.94-2.06-.94L8.5 2.5l-.94 2.06-2.06.94zm10 10l.94 2.06.94-2.06 2.06-.94-2.06-.94-.94-2.06-.94 2.06-2.06.94z\"/><path d=\"M17.41 7.96l-1.37-1.37c-.4-.4-.92-.59-1.43-.59-.52 0-1.04.2-1.43.59L10.3 9.45l-7.72 7.72c-.78.78-.78 2.05 0 2.83L4 21.41c.39.39.9.59 1.41.59.51 0 1.02-.2 1.41-.59l7.78-7.78 2.81-2.81c.8-.78.8-2.07 0-2.86zM5.41 20L4 18.59l7.72-7.72 1.47 1.35L5.41 20z\"/>\n",
              "  </svg>\n",
              "      </button>\n",
              "      \n",
              "  <style>\n",
              "    .colab-df-container {\n",
              "      display:flex;\n",
              "      flex-wrap:wrap;\n",
              "      gap: 12px;\n",
              "    }\n",
              "\n",
              "    .colab-df-convert {\n",
              "      background-color: #E8F0FE;\n",
              "      border: none;\n",
              "      border-radius: 50%;\n",
              "      cursor: pointer;\n",
              "      display: none;\n",
              "      fill: #1967D2;\n",
              "      height: 32px;\n",
              "      padding: 0 0 0 0;\n",
              "      width: 32px;\n",
              "    }\n",
              "\n",
              "    .colab-df-convert:hover {\n",
              "      background-color: #E2EBFA;\n",
              "      box-shadow: 0px 1px 2px rgba(60, 64, 67, 0.3), 0px 1px 3px 1px rgba(60, 64, 67, 0.15);\n",
              "      fill: #174EA6;\n",
              "    }\n",
              "\n",
              "    [theme=dark] .colab-df-convert {\n",
              "      background-color: #3B4455;\n",
              "      fill: #D2E3FC;\n",
              "    }\n",
              "\n",
              "    [theme=dark] .colab-df-convert:hover {\n",
              "      background-color: #434B5C;\n",
              "      box-shadow: 0px 1px 3px 1px rgba(0, 0, 0, 0.15);\n",
              "      filter: drop-shadow(0px 1px 2px rgba(0, 0, 0, 0.3));\n",
              "      fill: #FFFFFF;\n",
              "    }\n",
              "  </style>\n",
              "\n",
              "      <script>\n",
              "        const buttonEl =\n",
              "          document.querySelector('#df-616d6aba-7e97-427a-aef8-df3e2defbeb3 button.colab-df-convert');\n",
              "        buttonEl.style.display =\n",
              "          google.colab.kernel.accessAllowed ? 'block' : 'none';\n",
              "\n",
              "        async function convertToInteractive(key) {\n",
              "          const element = document.querySelector('#df-616d6aba-7e97-427a-aef8-df3e2defbeb3');\n",
              "          const dataTable =\n",
              "            await google.colab.kernel.invokeFunction('convertToInteractive',\n",
              "                                                     [key], {});\n",
              "          if (!dataTable) return;\n",
              "\n",
              "          const docLinkHtml = 'Like what you see? Visit the ' +\n",
              "            '<a target=\"_blank\" href=https://colab.research.google.com/notebooks/data_table.ipynb>data table notebook</a>'\n",
              "            + ' to learn more about interactive tables.';\n",
              "          element.innerHTML = '';\n",
              "          dataTable['output_type'] = 'display_data';\n",
              "          await google.colab.output.renderOutput(dataTable, element);\n",
              "          const docLink = document.createElement('div');\n",
              "          docLink.innerHTML = docLinkHtml;\n",
              "          element.appendChild(docLink);\n",
              "        }\n",
              "      </script>\n",
              "    </div>\n",
              "  </div>\n",
              "  "
            ]
          },
          "metadata": {},
          "execution_count": 4
        }
      ],
      "source": [
        "categories.head()"
      ]
    },
    {
      "cell_type": "code",
      "execution_count": null,
      "id": "77872d4c",
      "metadata": {
        "colab": {
          "base_uri": "https://localhost:8080/",
          "height": 70
        },
        "id": "77872d4c",
        "outputId": "33beb12b-bcc0-4eb0-a988-52560b56e985"
      },
      "outputs": [
        {
          "output_type": "execute_result",
          "data": {
            "text/plain": [
              "'related-1;request-0;offer-0;aid_related-0;medical_help-0;medical_products-0;search_and_rescue-0;security-0;military-0;child_alone-0;water-0;food-0;shelter-0;clothing-0;money-0;missing_people-0;refugees-0;death-0;other_aid-0;infrastructure_related-0;transport-0;buildings-0;electricity-0;tools-0;hospitals-0;shops-0;aid_centers-0;other_infrastructure-0;weather_related-0;floods-0;storm-0;fire-0;earthquake-0;cold-0;other_weather-0;direct_report-0'"
            ],
            "application/vnd.google.colaboratory.intrinsic+json": {
              "type": "string"
            }
          },
          "metadata": {},
          "execution_count": 5
        }
      ],
      "source": [
        "categories.iloc[0]['categories']"
      ]
    },
    {
      "cell_type": "markdown",
      "id": "192d9e4a",
      "metadata": {
        "id": "192d9e4a"
      },
      "source": [
        "The `disaster_categories` dataset contains the category labels for our messages, but in a serialized fashion. We have also taken a closer look at the category for the first row. We'll need to convert the categories to a format better suited for our ML model."
      ]
    },
    {
      "cell_type": "markdown",
      "id": "253ba1f6",
      "metadata": {
        "id": "253ba1f6"
      },
      "source": [
        "# 3. Extract, Transform, Load!\n",
        "\n",
        "Let's start by merging the two datasets so that the messages and categories are present in the same dataframe."
      ]
    },
    {
      "cell_type": "code",
      "execution_count": null,
      "id": "d6e39343",
      "metadata": {
        "id": "d6e39343"
      },
      "outputs": [],
      "source": [
        "df = messages.merge(categories, on='id')"
      ]
    },
    {
      "cell_type": "code",
      "execution_count": null,
      "id": "01091bc1",
      "metadata": {
        "colab": {
          "base_uri": "https://localhost:8080/",
          "height": 206
        },
        "id": "01091bc1",
        "outputId": "983bef70-65da-422a-ab15-3c13d87848b9"
      },
      "outputs": [
        {
          "output_type": "execute_result",
          "data": {
            "text/plain": [
              "   id                                            message  \\\n",
              "0   2  Weather update - a cold front from Cuba that c...   \n",
              "1   7            Is the Hurricane over or is it not over   \n",
              "2   8                    Looking for someone but no name   \n",
              "3   9  UN reports Leogane 80-90 destroyed. Only Hospi...   \n",
              "4  12  says: west side of Haiti, rest of the country ...   \n",
              "\n",
              "                                            original   genre  \\\n",
              "0  Un front froid se retrouve sur Cuba ce matin. ...  direct   \n",
              "1                 Cyclone nan fini osinon li pa fini  direct   \n",
              "2  Patnm, di Maryani relem pou li banm nouvel li ...  direct   \n",
              "3  UN reports Leogane 80-90 destroyed. Only Hospi...  direct   \n",
              "4  facade ouest d Haiti et le reste du pays aujou...  direct   \n",
              "\n",
              "                                          categories  \n",
              "0  related-1;request-0;offer-0;aid_related-0;medi...  \n",
              "1  related-1;request-0;offer-0;aid_related-1;medi...  \n",
              "2  related-1;request-0;offer-0;aid_related-0;medi...  \n",
              "3  related-1;request-1;offer-0;aid_related-1;medi...  \n",
              "4  related-1;request-0;offer-0;aid_related-0;medi...  "
            ],
            "text/html": [
              "\n",
              "  <div id=\"df-e753af50-38d8-4629-8b32-b5fcb6d100d6\">\n",
              "    <div class=\"colab-df-container\">\n",
              "      <div>\n",
              "<style scoped>\n",
              "    .dataframe tbody tr th:only-of-type {\n",
              "        vertical-align: middle;\n",
              "    }\n",
              "\n",
              "    .dataframe tbody tr th {\n",
              "        vertical-align: top;\n",
              "    }\n",
              "\n",
              "    .dataframe thead th {\n",
              "        text-align: right;\n",
              "    }\n",
              "</style>\n",
              "<table border=\"1\" class=\"dataframe\">\n",
              "  <thead>\n",
              "    <tr style=\"text-align: right;\">\n",
              "      <th></th>\n",
              "      <th>id</th>\n",
              "      <th>message</th>\n",
              "      <th>original</th>\n",
              "      <th>genre</th>\n",
              "      <th>categories</th>\n",
              "    </tr>\n",
              "  </thead>\n",
              "  <tbody>\n",
              "    <tr>\n",
              "      <th>0</th>\n",
              "      <td>2</td>\n",
              "      <td>Weather update - a cold front from Cuba that c...</td>\n",
              "      <td>Un front froid se retrouve sur Cuba ce matin. ...</td>\n",
              "      <td>direct</td>\n",
              "      <td>related-1;request-0;offer-0;aid_related-0;medi...</td>\n",
              "    </tr>\n",
              "    <tr>\n",
              "      <th>1</th>\n",
              "      <td>7</td>\n",
              "      <td>Is the Hurricane over or is it not over</td>\n",
              "      <td>Cyclone nan fini osinon li pa fini</td>\n",
              "      <td>direct</td>\n",
              "      <td>related-1;request-0;offer-0;aid_related-1;medi...</td>\n",
              "    </tr>\n",
              "    <tr>\n",
              "      <th>2</th>\n",
              "      <td>8</td>\n",
              "      <td>Looking for someone but no name</td>\n",
              "      <td>Patnm, di Maryani relem pou li banm nouvel li ...</td>\n",
              "      <td>direct</td>\n",
              "      <td>related-1;request-0;offer-0;aid_related-0;medi...</td>\n",
              "    </tr>\n",
              "    <tr>\n",
              "      <th>3</th>\n",
              "      <td>9</td>\n",
              "      <td>UN reports Leogane 80-90 destroyed. Only Hospi...</td>\n",
              "      <td>UN reports Leogane 80-90 destroyed. Only Hospi...</td>\n",
              "      <td>direct</td>\n",
              "      <td>related-1;request-1;offer-0;aid_related-1;medi...</td>\n",
              "    </tr>\n",
              "    <tr>\n",
              "      <th>4</th>\n",
              "      <td>12</td>\n",
              "      <td>says: west side of Haiti, rest of the country ...</td>\n",
              "      <td>facade ouest d Haiti et le reste du pays aujou...</td>\n",
              "      <td>direct</td>\n",
              "      <td>related-1;request-0;offer-0;aid_related-0;medi...</td>\n",
              "    </tr>\n",
              "  </tbody>\n",
              "</table>\n",
              "</div>\n",
              "      <button class=\"colab-df-convert\" onclick=\"convertToInteractive('df-e753af50-38d8-4629-8b32-b5fcb6d100d6')\"\n",
              "              title=\"Convert this dataframe to an interactive table.\"\n",
              "              style=\"display:none;\">\n",
              "        \n",
              "  <svg xmlns=\"http://www.w3.org/2000/svg\" height=\"24px\"viewBox=\"0 0 24 24\"\n",
              "       width=\"24px\">\n",
              "    <path d=\"M0 0h24v24H0V0z\" fill=\"none\"/>\n",
              "    <path d=\"M18.56 5.44l.94 2.06.94-2.06 2.06-.94-2.06-.94-.94-2.06-.94 2.06-2.06.94zm-11 1L8.5 8.5l.94-2.06 2.06-.94-2.06-.94L8.5 2.5l-.94 2.06-2.06.94zm10 10l.94 2.06.94-2.06 2.06-.94-2.06-.94-.94-2.06-.94 2.06-2.06.94z\"/><path d=\"M17.41 7.96l-1.37-1.37c-.4-.4-.92-.59-1.43-.59-.52 0-1.04.2-1.43.59L10.3 9.45l-7.72 7.72c-.78.78-.78 2.05 0 2.83L4 21.41c.39.39.9.59 1.41.59.51 0 1.02-.2 1.41-.59l7.78-7.78 2.81-2.81c.8-.78.8-2.07 0-2.86zM5.41 20L4 18.59l7.72-7.72 1.47 1.35L5.41 20z\"/>\n",
              "  </svg>\n",
              "      </button>\n",
              "      \n",
              "  <style>\n",
              "    .colab-df-container {\n",
              "      display:flex;\n",
              "      flex-wrap:wrap;\n",
              "      gap: 12px;\n",
              "    }\n",
              "\n",
              "    .colab-df-convert {\n",
              "      background-color: #E8F0FE;\n",
              "      border: none;\n",
              "      border-radius: 50%;\n",
              "      cursor: pointer;\n",
              "      display: none;\n",
              "      fill: #1967D2;\n",
              "      height: 32px;\n",
              "      padding: 0 0 0 0;\n",
              "      width: 32px;\n",
              "    }\n",
              "\n",
              "    .colab-df-convert:hover {\n",
              "      background-color: #E2EBFA;\n",
              "      box-shadow: 0px 1px 2px rgba(60, 64, 67, 0.3), 0px 1px 3px 1px rgba(60, 64, 67, 0.15);\n",
              "      fill: #174EA6;\n",
              "    }\n",
              "\n",
              "    [theme=dark] .colab-df-convert {\n",
              "      background-color: #3B4455;\n",
              "      fill: #D2E3FC;\n",
              "    }\n",
              "\n",
              "    [theme=dark] .colab-df-convert:hover {\n",
              "      background-color: #434B5C;\n",
              "      box-shadow: 0px 1px 3px 1px rgba(0, 0, 0, 0.15);\n",
              "      filter: drop-shadow(0px 1px 2px rgba(0, 0, 0, 0.3));\n",
              "      fill: #FFFFFF;\n",
              "    }\n",
              "  </style>\n",
              "\n",
              "      <script>\n",
              "        const buttonEl =\n",
              "          document.querySelector('#df-e753af50-38d8-4629-8b32-b5fcb6d100d6 button.colab-df-convert');\n",
              "        buttonEl.style.display =\n",
              "          google.colab.kernel.accessAllowed ? 'block' : 'none';\n",
              "\n",
              "        async function convertToInteractive(key) {\n",
              "          const element = document.querySelector('#df-e753af50-38d8-4629-8b32-b5fcb6d100d6');\n",
              "          const dataTable =\n",
              "            await google.colab.kernel.invokeFunction('convertToInteractive',\n",
              "                                                     [key], {});\n",
              "          if (!dataTable) return;\n",
              "\n",
              "          const docLinkHtml = 'Like what you see? Visit the ' +\n",
              "            '<a target=\"_blank\" href=https://colab.research.google.com/notebooks/data_table.ipynb>data table notebook</a>'\n",
              "            + ' to learn more about interactive tables.';\n",
              "          element.innerHTML = '';\n",
              "          dataTable['output_type'] = 'display_data';\n",
              "          await google.colab.output.renderOutput(dataTable, element);\n",
              "          const docLink = document.createElement('div');\n",
              "          docLink.innerHTML = docLinkHtml;\n",
              "          element.appendChild(docLink);\n",
              "        }\n",
              "      </script>\n",
              "    </div>\n",
              "  </div>\n",
              "  "
            ]
          },
          "metadata": {},
          "execution_count": 7
        }
      ],
      "source": [
        "df.head()"
      ]
    },
    {
      "cell_type": "markdown",
      "id": "0cffad1e",
      "metadata": {
        "id": "0cffad1e"
      },
      "source": [
        "### Cleaning and transforming the categories column \n",
        "\n",
        "Let's start by splitting the  categories column into separate columns for each category."
      ]
    },
    {
      "cell_type": "code",
      "execution_count": null,
      "id": "2b838b19",
      "metadata": {
        "id": "2b838b19"
      },
      "outputs": [],
      "source": [
        "categories = df['categories'].str.split(';',expand=True)"
      ]
    },
    {
      "cell_type": "code",
      "execution_count": null,
      "id": "a4250808",
      "metadata": {
        "colab": {
          "base_uri": "https://localhost:8080/",
          "height": 366
        },
        "id": "a4250808",
        "outputId": "17c160d8-1357-4811-9fa8-dadc5ff87d27"
      },
      "outputs": [
        {
          "output_type": "execute_result",
          "data": {
            "text/plain": [
              "          0          1        2              3               4   \\\n",
              "0  related-1  request-0  offer-0  aid_related-0  medical_help-0   \n",
              "1  related-1  request-0  offer-0  aid_related-1  medical_help-0   \n",
              "2  related-1  request-0  offer-0  aid_related-0  medical_help-0   \n",
              "3  related-1  request-1  offer-0  aid_related-1  medical_help-0   \n",
              "4  related-1  request-0  offer-0  aid_related-0  medical_help-0   \n",
              "\n",
              "                   5                    6           7           8   \\\n",
              "0  medical_products-0  search_and_rescue-0  security-0  military-0   \n",
              "1  medical_products-0  search_and_rescue-0  security-0  military-0   \n",
              "2  medical_products-0  search_and_rescue-0  security-0  military-0   \n",
              "3  medical_products-1  search_and_rescue-0  security-0  military-0   \n",
              "4  medical_products-0  search_and_rescue-0  security-0  military-0   \n",
              "\n",
              "              9   ...             26                      27  \\\n",
              "0  child_alone-0  ...  aid_centers-0  other_infrastructure-0   \n",
              "1  child_alone-0  ...  aid_centers-0  other_infrastructure-0   \n",
              "2  child_alone-0  ...  aid_centers-0  other_infrastructure-0   \n",
              "3  child_alone-0  ...  aid_centers-0  other_infrastructure-0   \n",
              "4  child_alone-0  ...  aid_centers-0  other_infrastructure-0   \n",
              "\n",
              "                  28        29       30      31            32      33  \\\n",
              "0  weather_related-0  floods-0  storm-0  fire-0  earthquake-0  cold-0   \n",
              "1  weather_related-1  floods-0  storm-1  fire-0  earthquake-0  cold-0   \n",
              "2  weather_related-0  floods-0  storm-0  fire-0  earthquake-0  cold-0   \n",
              "3  weather_related-0  floods-0  storm-0  fire-0  earthquake-0  cold-0   \n",
              "4  weather_related-0  floods-0  storm-0  fire-0  earthquake-0  cold-0   \n",
              "\n",
              "                34               35  \n",
              "0  other_weather-0  direct_report-0  \n",
              "1  other_weather-0  direct_report-0  \n",
              "2  other_weather-0  direct_report-0  \n",
              "3  other_weather-0  direct_report-0  \n",
              "4  other_weather-0  direct_report-0  \n",
              "\n",
              "[5 rows x 36 columns]"
            ],
            "text/html": [
              "\n",
              "  <div id=\"df-00e19c91-1aae-48d7-b5b0-1983b5be09fb\">\n",
              "    <div class=\"colab-df-container\">\n",
              "      <div>\n",
              "<style scoped>\n",
              "    .dataframe tbody tr th:only-of-type {\n",
              "        vertical-align: middle;\n",
              "    }\n",
              "\n",
              "    .dataframe tbody tr th {\n",
              "        vertical-align: top;\n",
              "    }\n",
              "\n",
              "    .dataframe thead th {\n",
              "        text-align: right;\n",
              "    }\n",
              "</style>\n",
              "<table border=\"1\" class=\"dataframe\">\n",
              "  <thead>\n",
              "    <tr style=\"text-align: right;\">\n",
              "      <th></th>\n",
              "      <th>0</th>\n",
              "      <th>1</th>\n",
              "      <th>2</th>\n",
              "      <th>3</th>\n",
              "      <th>4</th>\n",
              "      <th>5</th>\n",
              "      <th>6</th>\n",
              "      <th>7</th>\n",
              "      <th>8</th>\n",
              "      <th>9</th>\n",
              "      <th>...</th>\n",
              "      <th>26</th>\n",
              "      <th>27</th>\n",
              "      <th>28</th>\n",
              "      <th>29</th>\n",
              "      <th>30</th>\n",
              "      <th>31</th>\n",
              "      <th>32</th>\n",
              "      <th>33</th>\n",
              "      <th>34</th>\n",
              "      <th>35</th>\n",
              "    </tr>\n",
              "  </thead>\n",
              "  <tbody>\n",
              "    <tr>\n",
              "      <th>0</th>\n",
              "      <td>related-1</td>\n",
              "      <td>request-0</td>\n",
              "      <td>offer-0</td>\n",
              "      <td>aid_related-0</td>\n",
              "      <td>medical_help-0</td>\n",
              "      <td>medical_products-0</td>\n",
              "      <td>search_and_rescue-0</td>\n",
              "      <td>security-0</td>\n",
              "      <td>military-0</td>\n",
              "      <td>child_alone-0</td>\n",
              "      <td>...</td>\n",
              "      <td>aid_centers-0</td>\n",
              "      <td>other_infrastructure-0</td>\n",
              "      <td>weather_related-0</td>\n",
              "      <td>floods-0</td>\n",
              "      <td>storm-0</td>\n",
              "      <td>fire-0</td>\n",
              "      <td>earthquake-0</td>\n",
              "      <td>cold-0</td>\n",
              "      <td>other_weather-0</td>\n",
              "      <td>direct_report-0</td>\n",
              "    </tr>\n",
              "    <tr>\n",
              "      <th>1</th>\n",
              "      <td>related-1</td>\n",
              "      <td>request-0</td>\n",
              "      <td>offer-0</td>\n",
              "      <td>aid_related-1</td>\n",
              "      <td>medical_help-0</td>\n",
              "      <td>medical_products-0</td>\n",
              "      <td>search_and_rescue-0</td>\n",
              "      <td>security-0</td>\n",
              "      <td>military-0</td>\n",
              "      <td>child_alone-0</td>\n",
              "      <td>...</td>\n",
              "      <td>aid_centers-0</td>\n",
              "      <td>other_infrastructure-0</td>\n",
              "      <td>weather_related-1</td>\n",
              "      <td>floods-0</td>\n",
              "      <td>storm-1</td>\n",
              "      <td>fire-0</td>\n",
              "      <td>earthquake-0</td>\n",
              "      <td>cold-0</td>\n",
              "      <td>other_weather-0</td>\n",
              "      <td>direct_report-0</td>\n",
              "    </tr>\n",
              "    <tr>\n",
              "      <th>2</th>\n",
              "      <td>related-1</td>\n",
              "      <td>request-0</td>\n",
              "      <td>offer-0</td>\n",
              "      <td>aid_related-0</td>\n",
              "      <td>medical_help-0</td>\n",
              "      <td>medical_products-0</td>\n",
              "      <td>search_and_rescue-0</td>\n",
              "      <td>security-0</td>\n",
              "      <td>military-0</td>\n",
              "      <td>child_alone-0</td>\n",
              "      <td>...</td>\n",
              "      <td>aid_centers-0</td>\n",
              "      <td>other_infrastructure-0</td>\n",
              "      <td>weather_related-0</td>\n",
              "      <td>floods-0</td>\n",
              "      <td>storm-0</td>\n",
              "      <td>fire-0</td>\n",
              "      <td>earthquake-0</td>\n",
              "      <td>cold-0</td>\n",
              "      <td>other_weather-0</td>\n",
              "      <td>direct_report-0</td>\n",
              "    </tr>\n",
              "    <tr>\n",
              "      <th>3</th>\n",
              "      <td>related-1</td>\n",
              "      <td>request-1</td>\n",
              "      <td>offer-0</td>\n",
              "      <td>aid_related-1</td>\n",
              "      <td>medical_help-0</td>\n",
              "      <td>medical_products-1</td>\n",
              "      <td>search_and_rescue-0</td>\n",
              "      <td>security-0</td>\n",
              "      <td>military-0</td>\n",
              "      <td>child_alone-0</td>\n",
              "      <td>...</td>\n",
              "      <td>aid_centers-0</td>\n",
              "      <td>other_infrastructure-0</td>\n",
              "      <td>weather_related-0</td>\n",
              "      <td>floods-0</td>\n",
              "      <td>storm-0</td>\n",
              "      <td>fire-0</td>\n",
              "      <td>earthquake-0</td>\n",
              "      <td>cold-0</td>\n",
              "      <td>other_weather-0</td>\n",
              "      <td>direct_report-0</td>\n",
              "    </tr>\n",
              "    <tr>\n",
              "      <th>4</th>\n",
              "      <td>related-1</td>\n",
              "      <td>request-0</td>\n",
              "      <td>offer-0</td>\n",
              "      <td>aid_related-0</td>\n",
              "      <td>medical_help-0</td>\n",
              "      <td>medical_products-0</td>\n",
              "      <td>search_and_rescue-0</td>\n",
              "      <td>security-0</td>\n",
              "      <td>military-0</td>\n",
              "      <td>child_alone-0</td>\n",
              "      <td>...</td>\n",
              "      <td>aid_centers-0</td>\n",
              "      <td>other_infrastructure-0</td>\n",
              "      <td>weather_related-0</td>\n",
              "      <td>floods-0</td>\n",
              "      <td>storm-0</td>\n",
              "      <td>fire-0</td>\n",
              "      <td>earthquake-0</td>\n",
              "      <td>cold-0</td>\n",
              "      <td>other_weather-0</td>\n",
              "      <td>direct_report-0</td>\n",
              "    </tr>\n",
              "  </tbody>\n",
              "</table>\n",
              "<p>5 rows × 36 columns</p>\n",
              "</div>\n",
              "      <button class=\"colab-df-convert\" onclick=\"convertToInteractive('df-00e19c91-1aae-48d7-b5b0-1983b5be09fb')\"\n",
              "              title=\"Convert this dataframe to an interactive table.\"\n",
              "              style=\"display:none;\">\n",
              "        \n",
              "  <svg xmlns=\"http://www.w3.org/2000/svg\" height=\"24px\"viewBox=\"0 0 24 24\"\n",
              "       width=\"24px\">\n",
              "    <path d=\"M0 0h24v24H0V0z\" fill=\"none\"/>\n",
              "    <path d=\"M18.56 5.44l.94 2.06.94-2.06 2.06-.94-2.06-.94-.94-2.06-.94 2.06-2.06.94zm-11 1L8.5 8.5l.94-2.06 2.06-.94-2.06-.94L8.5 2.5l-.94 2.06-2.06.94zm10 10l.94 2.06.94-2.06 2.06-.94-2.06-.94-.94-2.06-.94 2.06-2.06.94z\"/><path d=\"M17.41 7.96l-1.37-1.37c-.4-.4-.92-.59-1.43-.59-.52 0-1.04.2-1.43.59L10.3 9.45l-7.72 7.72c-.78.78-.78 2.05 0 2.83L4 21.41c.39.39.9.59 1.41.59.51 0 1.02-.2 1.41-.59l7.78-7.78 2.81-2.81c.8-.78.8-2.07 0-2.86zM5.41 20L4 18.59l7.72-7.72 1.47 1.35L5.41 20z\"/>\n",
              "  </svg>\n",
              "      </button>\n",
              "      \n",
              "  <style>\n",
              "    .colab-df-container {\n",
              "      display:flex;\n",
              "      flex-wrap:wrap;\n",
              "      gap: 12px;\n",
              "    }\n",
              "\n",
              "    .colab-df-convert {\n",
              "      background-color: #E8F0FE;\n",
              "      border: none;\n",
              "      border-radius: 50%;\n",
              "      cursor: pointer;\n",
              "      display: none;\n",
              "      fill: #1967D2;\n",
              "      height: 32px;\n",
              "      padding: 0 0 0 0;\n",
              "      width: 32px;\n",
              "    }\n",
              "\n",
              "    .colab-df-convert:hover {\n",
              "      background-color: #E2EBFA;\n",
              "      box-shadow: 0px 1px 2px rgba(60, 64, 67, 0.3), 0px 1px 3px 1px rgba(60, 64, 67, 0.15);\n",
              "      fill: #174EA6;\n",
              "    }\n",
              "\n",
              "    [theme=dark] .colab-df-convert {\n",
              "      background-color: #3B4455;\n",
              "      fill: #D2E3FC;\n",
              "    }\n",
              "\n",
              "    [theme=dark] .colab-df-convert:hover {\n",
              "      background-color: #434B5C;\n",
              "      box-shadow: 0px 1px 3px 1px rgba(0, 0, 0, 0.15);\n",
              "      filter: drop-shadow(0px 1px 2px rgba(0, 0, 0, 0.3));\n",
              "      fill: #FFFFFF;\n",
              "    }\n",
              "  </style>\n",
              "\n",
              "      <script>\n",
              "        const buttonEl =\n",
              "          document.querySelector('#df-00e19c91-1aae-48d7-b5b0-1983b5be09fb button.colab-df-convert');\n",
              "        buttonEl.style.display =\n",
              "          google.colab.kernel.accessAllowed ? 'block' : 'none';\n",
              "\n",
              "        async function convertToInteractive(key) {\n",
              "          const element = document.querySelector('#df-00e19c91-1aae-48d7-b5b0-1983b5be09fb');\n",
              "          const dataTable =\n",
              "            await google.colab.kernel.invokeFunction('convertToInteractive',\n",
              "                                                     [key], {});\n",
              "          if (!dataTable) return;\n",
              "\n",
              "          const docLinkHtml = 'Like what you see? Visit the ' +\n",
              "            '<a target=\"_blank\" href=https://colab.research.google.com/notebooks/data_table.ipynb>data table notebook</a>'\n",
              "            + ' to learn more about interactive tables.';\n",
              "          element.innerHTML = '';\n",
              "          dataTable['output_type'] = 'display_data';\n",
              "          await google.colab.output.renderOutput(dataTable, element);\n",
              "          const docLink = document.createElement('div');\n",
              "          docLink.innerHTML = docLinkHtml;\n",
              "          element.appendChild(docLink);\n",
              "        }\n",
              "      </script>\n",
              "    </div>\n",
              "  </div>\n",
              "  "
            ]
          },
          "metadata": {},
          "execution_count": 9
        }
      ],
      "source": [
        "categories.head()"
      ]
    },
    {
      "cell_type": "markdown",
      "id": "08420380",
      "metadata": {
        "id": "08420380"
      },
      "source": [
        "Extracting the column names from a row of the categories dataframe."
      ]
    },
    {
      "cell_type": "code",
      "execution_count": null,
      "id": "d466d958",
      "metadata": {
        "id": "d466d958"
      },
      "outputs": [],
      "source": [
        "category_column_names = categories.iloc[0].apply(lambda x: x.split(\"-\")[0])"
      ]
    },
    {
      "cell_type": "code",
      "execution_count": null,
      "id": "11ca23fd",
      "metadata": {
        "colab": {
          "base_uri": "https://localhost:8080/"
        },
        "id": "11ca23fd",
        "outputId": "85de967c-f105-41eb-8c1c-276129db83b5"
      },
      "outputs": [
        {
          "output_type": "stream",
          "name": "stdout",
          "text": [
            "['related', 'request', 'offer', 'aid_related', 'medical_help', 'medical_products', 'search_and_rescue', 'security', 'military', 'child_alone', 'water', 'food', 'shelter', 'clothing', 'money', 'missing_people', 'refugees', 'death', 'other_aid', 'infrastructure_related', 'transport', 'buildings', 'electricity', 'tools', 'hospitals', 'shops', 'aid_centers', 'other_infrastructure', 'weather_related', 'floods', 'storm', 'fire', 'earthquake', 'cold', 'other_weather', 'direct_report']\n"
          ]
        }
      ],
      "source": [
        "# Let's check which categories we have\n",
        "print([name for name in category_column_names])"
      ]
    },
    {
      "cell_type": "markdown",
      "id": "5ba08140",
      "metadata": {
        "id": "5ba08140"
      },
      "source": [
        "Using the extracted column names as the header of the categories dataframe:"
      ]
    },
    {
      "cell_type": "code",
      "execution_count": null,
      "id": "6f218d17",
      "metadata": {
        "id": "6f218d17"
      },
      "outputs": [],
      "source": [
        "categories.columns = category_column_names"
      ]
    },
    {
      "cell_type": "code",
      "execution_count": null,
      "id": "6825a601",
      "metadata": {
        "colab": {
          "base_uri": "https://localhost:8080/",
          "height": 386
        },
        "id": "6825a601",
        "outputId": "a9e32635-0f23-45f7-ef1e-89c226a35485"
      },
      "outputs": [
        {
          "output_type": "execute_result",
          "data": {
            "text/plain": [
              "0    related    request    offer    aid_related    medical_help  \\\n",
              "0  related-1  request-0  offer-0  aid_related-0  medical_help-0   \n",
              "1  related-1  request-0  offer-0  aid_related-1  medical_help-0   \n",
              "2  related-1  request-0  offer-0  aid_related-0  medical_help-0   \n",
              "3  related-1  request-1  offer-0  aid_related-1  medical_help-0   \n",
              "4  related-1  request-0  offer-0  aid_related-0  medical_help-0   \n",
              "\n",
              "0    medical_products    search_and_rescue    security    military  \\\n",
              "0  medical_products-0  search_and_rescue-0  security-0  military-0   \n",
              "1  medical_products-0  search_and_rescue-0  security-0  military-0   \n",
              "2  medical_products-0  search_and_rescue-0  security-0  military-0   \n",
              "3  medical_products-1  search_and_rescue-0  security-0  military-0   \n",
              "4  medical_products-0  search_and_rescue-0  security-0  military-0   \n",
              "\n",
              "0    child_alone  ...    aid_centers    other_infrastructure  \\\n",
              "0  child_alone-0  ...  aid_centers-0  other_infrastructure-0   \n",
              "1  child_alone-0  ...  aid_centers-0  other_infrastructure-0   \n",
              "2  child_alone-0  ...  aid_centers-0  other_infrastructure-0   \n",
              "3  child_alone-0  ...  aid_centers-0  other_infrastructure-0   \n",
              "4  child_alone-0  ...  aid_centers-0  other_infrastructure-0   \n",
              "\n",
              "0    weather_related    floods    storm    fire    earthquake    cold  \\\n",
              "0  weather_related-0  floods-0  storm-0  fire-0  earthquake-0  cold-0   \n",
              "1  weather_related-1  floods-0  storm-1  fire-0  earthquake-0  cold-0   \n",
              "2  weather_related-0  floods-0  storm-0  fire-0  earthquake-0  cold-0   \n",
              "3  weather_related-0  floods-0  storm-0  fire-0  earthquake-0  cold-0   \n",
              "4  weather_related-0  floods-0  storm-0  fire-0  earthquake-0  cold-0   \n",
              "\n",
              "0    other_weather    direct_report  \n",
              "0  other_weather-0  direct_report-0  \n",
              "1  other_weather-0  direct_report-0  \n",
              "2  other_weather-0  direct_report-0  \n",
              "3  other_weather-0  direct_report-0  \n",
              "4  other_weather-0  direct_report-0  \n",
              "\n",
              "[5 rows x 36 columns]"
            ],
            "text/html": [
              "\n",
              "  <div id=\"df-a400db80-e3d6-4527-b945-b6634b1f808f\">\n",
              "    <div class=\"colab-df-container\">\n",
              "      <div>\n",
              "<style scoped>\n",
              "    .dataframe tbody tr th:only-of-type {\n",
              "        vertical-align: middle;\n",
              "    }\n",
              "\n",
              "    .dataframe tbody tr th {\n",
              "        vertical-align: top;\n",
              "    }\n",
              "\n",
              "    .dataframe thead th {\n",
              "        text-align: right;\n",
              "    }\n",
              "</style>\n",
              "<table border=\"1\" class=\"dataframe\">\n",
              "  <thead>\n",
              "    <tr style=\"text-align: right;\">\n",
              "      <th></th>\n",
              "      <th>related</th>\n",
              "      <th>request</th>\n",
              "      <th>offer</th>\n",
              "      <th>aid_related</th>\n",
              "      <th>medical_help</th>\n",
              "      <th>medical_products</th>\n",
              "      <th>search_and_rescue</th>\n",
              "      <th>security</th>\n",
              "      <th>military</th>\n",
              "      <th>child_alone</th>\n",
              "      <th>...</th>\n",
              "      <th>aid_centers</th>\n",
              "      <th>other_infrastructure</th>\n",
              "      <th>weather_related</th>\n",
              "      <th>floods</th>\n",
              "      <th>storm</th>\n",
              "      <th>fire</th>\n",
              "      <th>earthquake</th>\n",
              "      <th>cold</th>\n",
              "      <th>other_weather</th>\n",
              "      <th>direct_report</th>\n",
              "    </tr>\n",
              "  </thead>\n",
              "  <tbody>\n",
              "    <tr>\n",
              "      <th>0</th>\n",
              "      <td>related-1</td>\n",
              "      <td>request-0</td>\n",
              "      <td>offer-0</td>\n",
              "      <td>aid_related-0</td>\n",
              "      <td>medical_help-0</td>\n",
              "      <td>medical_products-0</td>\n",
              "      <td>search_and_rescue-0</td>\n",
              "      <td>security-0</td>\n",
              "      <td>military-0</td>\n",
              "      <td>child_alone-0</td>\n",
              "      <td>...</td>\n",
              "      <td>aid_centers-0</td>\n",
              "      <td>other_infrastructure-0</td>\n",
              "      <td>weather_related-0</td>\n",
              "      <td>floods-0</td>\n",
              "      <td>storm-0</td>\n",
              "      <td>fire-0</td>\n",
              "      <td>earthquake-0</td>\n",
              "      <td>cold-0</td>\n",
              "      <td>other_weather-0</td>\n",
              "      <td>direct_report-0</td>\n",
              "    </tr>\n",
              "    <tr>\n",
              "      <th>1</th>\n",
              "      <td>related-1</td>\n",
              "      <td>request-0</td>\n",
              "      <td>offer-0</td>\n",
              "      <td>aid_related-1</td>\n",
              "      <td>medical_help-0</td>\n",
              "      <td>medical_products-0</td>\n",
              "      <td>search_and_rescue-0</td>\n",
              "      <td>security-0</td>\n",
              "      <td>military-0</td>\n",
              "      <td>child_alone-0</td>\n",
              "      <td>...</td>\n",
              "      <td>aid_centers-0</td>\n",
              "      <td>other_infrastructure-0</td>\n",
              "      <td>weather_related-1</td>\n",
              "      <td>floods-0</td>\n",
              "      <td>storm-1</td>\n",
              "      <td>fire-0</td>\n",
              "      <td>earthquake-0</td>\n",
              "      <td>cold-0</td>\n",
              "      <td>other_weather-0</td>\n",
              "      <td>direct_report-0</td>\n",
              "    </tr>\n",
              "    <tr>\n",
              "      <th>2</th>\n",
              "      <td>related-1</td>\n",
              "      <td>request-0</td>\n",
              "      <td>offer-0</td>\n",
              "      <td>aid_related-0</td>\n",
              "      <td>medical_help-0</td>\n",
              "      <td>medical_products-0</td>\n",
              "      <td>search_and_rescue-0</td>\n",
              "      <td>security-0</td>\n",
              "      <td>military-0</td>\n",
              "      <td>child_alone-0</td>\n",
              "      <td>...</td>\n",
              "      <td>aid_centers-0</td>\n",
              "      <td>other_infrastructure-0</td>\n",
              "      <td>weather_related-0</td>\n",
              "      <td>floods-0</td>\n",
              "      <td>storm-0</td>\n",
              "      <td>fire-0</td>\n",
              "      <td>earthquake-0</td>\n",
              "      <td>cold-0</td>\n",
              "      <td>other_weather-0</td>\n",
              "      <td>direct_report-0</td>\n",
              "    </tr>\n",
              "    <tr>\n",
              "      <th>3</th>\n",
              "      <td>related-1</td>\n",
              "      <td>request-1</td>\n",
              "      <td>offer-0</td>\n",
              "      <td>aid_related-1</td>\n",
              "      <td>medical_help-0</td>\n",
              "      <td>medical_products-1</td>\n",
              "      <td>search_and_rescue-0</td>\n",
              "      <td>security-0</td>\n",
              "      <td>military-0</td>\n",
              "      <td>child_alone-0</td>\n",
              "      <td>...</td>\n",
              "      <td>aid_centers-0</td>\n",
              "      <td>other_infrastructure-0</td>\n",
              "      <td>weather_related-0</td>\n",
              "      <td>floods-0</td>\n",
              "      <td>storm-0</td>\n",
              "      <td>fire-0</td>\n",
              "      <td>earthquake-0</td>\n",
              "      <td>cold-0</td>\n",
              "      <td>other_weather-0</td>\n",
              "      <td>direct_report-0</td>\n",
              "    </tr>\n",
              "    <tr>\n",
              "      <th>4</th>\n",
              "      <td>related-1</td>\n",
              "      <td>request-0</td>\n",
              "      <td>offer-0</td>\n",
              "      <td>aid_related-0</td>\n",
              "      <td>medical_help-0</td>\n",
              "      <td>medical_products-0</td>\n",
              "      <td>search_and_rescue-0</td>\n",
              "      <td>security-0</td>\n",
              "      <td>military-0</td>\n",
              "      <td>child_alone-0</td>\n",
              "      <td>...</td>\n",
              "      <td>aid_centers-0</td>\n",
              "      <td>other_infrastructure-0</td>\n",
              "      <td>weather_related-0</td>\n",
              "      <td>floods-0</td>\n",
              "      <td>storm-0</td>\n",
              "      <td>fire-0</td>\n",
              "      <td>earthquake-0</td>\n",
              "      <td>cold-0</td>\n",
              "      <td>other_weather-0</td>\n",
              "      <td>direct_report-0</td>\n",
              "    </tr>\n",
              "  </tbody>\n",
              "</table>\n",
              "<p>5 rows × 36 columns</p>\n",
              "</div>\n",
              "      <button class=\"colab-df-convert\" onclick=\"convertToInteractive('df-a400db80-e3d6-4527-b945-b6634b1f808f')\"\n",
              "              title=\"Convert this dataframe to an interactive table.\"\n",
              "              style=\"display:none;\">\n",
              "        \n",
              "  <svg xmlns=\"http://www.w3.org/2000/svg\" height=\"24px\"viewBox=\"0 0 24 24\"\n",
              "       width=\"24px\">\n",
              "    <path d=\"M0 0h24v24H0V0z\" fill=\"none\"/>\n",
              "    <path d=\"M18.56 5.44l.94 2.06.94-2.06 2.06-.94-2.06-.94-.94-2.06-.94 2.06-2.06.94zm-11 1L8.5 8.5l.94-2.06 2.06-.94-2.06-.94L8.5 2.5l-.94 2.06-2.06.94zm10 10l.94 2.06.94-2.06 2.06-.94-2.06-.94-.94-2.06-.94 2.06-2.06.94z\"/><path d=\"M17.41 7.96l-1.37-1.37c-.4-.4-.92-.59-1.43-.59-.52 0-1.04.2-1.43.59L10.3 9.45l-7.72 7.72c-.78.78-.78 2.05 0 2.83L4 21.41c.39.39.9.59 1.41.59.51 0 1.02-.2 1.41-.59l7.78-7.78 2.81-2.81c.8-.78.8-2.07 0-2.86zM5.41 20L4 18.59l7.72-7.72 1.47 1.35L5.41 20z\"/>\n",
              "  </svg>\n",
              "      </button>\n",
              "      \n",
              "  <style>\n",
              "    .colab-df-container {\n",
              "      display:flex;\n",
              "      flex-wrap:wrap;\n",
              "      gap: 12px;\n",
              "    }\n",
              "\n",
              "    .colab-df-convert {\n",
              "      background-color: #E8F0FE;\n",
              "      border: none;\n",
              "      border-radius: 50%;\n",
              "      cursor: pointer;\n",
              "      display: none;\n",
              "      fill: #1967D2;\n",
              "      height: 32px;\n",
              "      padding: 0 0 0 0;\n",
              "      width: 32px;\n",
              "    }\n",
              "\n",
              "    .colab-df-convert:hover {\n",
              "      background-color: #E2EBFA;\n",
              "      box-shadow: 0px 1px 2px rgba(60, 64, 67, 0.3), 0px 1px 3px 1px rgba(60, 64, 67, 0.15);\n",
              "      fill: #174EA6;\n",
              "    }\n",
              "\n",
              "    [theme=dark] .colab-df-convert {\n",
              "      background-color: #3B4455;\n",
              "      fill: #D2E3FC;\n",
              "    }\n",
              "\n",
              "    [theme=dark] .colab-df-convert:hover {\n",
              "      background-color: #434B5C;\n",
              "      box-shadow: 0px 1px 3px 1px rgba(0, 0, 0, 0.15);\n",
              "      filter: drop-shadow(0px 1px 2px rgba(0, 0, 0, 0.3));\n",
              "      fill: #FFFFFF;\n",
              "    }\n",
              "  </style>\n",
              "\n",
              "      <script>\n",
              "        const buttonEl =\n",
              "          document.querySelector('#df-a400db80-e3d6-4527-b945-b6634b1f808f button.colab-df-convert');\n",
              "        buttonEl.style.display =\n",
              "          google.colab.kernel.accessAllowed ? 'block' : 'none';\n",
              "\n",
              "        async function convertToInteractive(key) {\n",
              "          const element = document.querySelector('#df-a400db80-e3d6-4527-b945-b6634b1f808f');\n",
              "          const dataTable =\n",
              "            await google.colab.kernel.invokeFunction('convertToInteractive',\n",
              "                                                     [key], {});\n",
              "          if (!dataTable) return;\n",
              "\n",
              "          const docLinkHtml = 'Like what you see? Visit the ' +\n",
              "            '<a target=\"_blank\" href=https://colab.research.google.com/notebooks/data_table.ipynb>data table notebook</a>'\n",
              "            + ' to learn more about interactive tables.';\n",
              "          element.innerHTML = '';\n",
              "          dataTable['output_type'] = 'display_data';\n",
              "          await google.colab.output.renderOutput(dataTable, element);\n",
              "          const docLink = document.createElement('div');\n",
              "          docLink.innerHTML = docLinkHtml;\n",
              "          element.appendChild(docLink);\n",
              "        }\n",
              "      </script>\n",
              "    </div>\n",
              "  </div>\n",
              "  "
            ]
          },
          "metadata": {},
          "execution_count": 13
        }
      ],
      "source": [
        "categories.head()"
      ]
    },
    {
      "cell_type": "markdown",
      "id": "2a470067",
      "metadata": {
        "id": "2a470067"
      },
      "source": [
        "Next, we'll fix the values of the above dataset so that they are binary. 1 indicates that a message belonging to a given category."
      ]
    },
    {
      "cell_type": "code",
      "execution_count": null,
      "id": "af784265",
      "metadata": {
        "id": "af784265"
      },
      "outputs": [],
      "source": [
        "for column in categories:\n",
        "    categories[column] = categories[column].str[-1].astype(int)"
      ]
    },
    {
      "cell_type": "markdown",
      "id": "26bec9a0",
      "metadata": {
        "id": "26bec9a0"
      },
      "source": [
        "The `related` column contains values other than 1 or 2, so we will convert the 2s to 1s by testricting the maximum value of a category as 1."
      ]
    },
    {
      "cell_type": "code",
      "execution_count": null,
      "id": "ac745b07",
      "metadata": {
        "colab": {
          "base_uri": "https://localhost:8080/"
        },
        "id": "ac745b07",
        "outputId": "c484b065-69a8-48fc-f9c7-55e9d2191ff0"
      },
      "outputs": [
        {
          "output_type": "execute_result",
          "data": {
            "text/plain": [
              "1    20042\n",
              "0     6140\n",
              "2      204\n",
              "Name: related, dtype: int64"
            ]
          },
          "metadata": {},
          "execution_count": 15
        }
      ],
      "source": [
        "categories['related'].value_counts()"
      ]
    },
    {
      "cell_type": "code",
      "execution_count": null,
      "id": "a9640468",
      "metadata": {
        "id": "a9640468"
      },
      "outputs": [],
      "source": [
        "categories['related'] = categories['related'].clip(0,1)"
      ]
    },
    {
      "cell_type": "code",
      "execution_count": null,
      "id": "190bf815",
      "metadata": {
        "colab": {
          "base_uri": "https://localhost:8080/"
        },
        "id": "190bf815",
        "outputId": "0b1a6c9e-4b7c-4955-fe60-4a20356a139e"
      },
      "outputs": [
        {
          "output_type": "execute_result",
          "data": {
            "text/plain": [
              "1    20246\n",
              "0     6140\n",
              "Name: related, dtype: int64"
            ]
          },
          "metadata": {},
          "execution_count": 17
        }
      ],
      "source": [
        "categories['related'].value_counts()"
      ]
    },
    {
      "cell_type": "markdown",
      "id": "836a808d",
      "metadata": {
        "id": "836a808d"
      },
      "source": [
        "Let's concatenate the categories dataframe back to our original dataframe."
      ]
    },
    {
      "cell_type": "code",
      "execution_count": null,
      "id": "82939f09",
      "metadata": {
        "id": "82939f09"
      },
      "outputs": [],
      "source": [
        "# drop the original categories column from `df`\n",
        "df.drop('categories',axis=1,inplace=True)\n",
        "\n",
        "# concatenate the original dataframe with the new `categories` dataframe\n",
        "df = pd.concat([df,categories], axis=1)\n"
      ]
    },
    {
      "cell_type": "code",
      "execution_count": null,
      "id": "aa3ef0dc",
      "metadata": {
        "id": "aa3ef0dc",
        "outputId": "001db748-61ea-4129-8352-79db6360a115",
        "colab": {
          "base_uri": "https://localhost:8080/",
          "height": 362
        }
      },
      "outputs": [
        {
          "output_type": "execute_result",
          "data": {
            "text/plain": [
              "   id                                            message  \\\n",
              "0   2  Weather update - a cold front from Cuba that c...   \n",
              "1   7            Is the Hurricane over or is it not over   \n",
              "\n",
              "                                            original   genre  related  \\\n",
              "0  Un front froid se retrouve sur Cuba ce matin. ...  direct        1   \n",
              "1                 Cyclone nan fini osinon li pa fini  direct        1   \n",
              "\n",
              "   request  offer  aid_related  medical_help  medical_products  ...  \\\n",
              "0        0      0            0             0                 0  ...   \n",
              "1        0      0            1             0                 0  ...   \n",
              "\n",
              "   aid_centers  other_infrastructure  weather_related  floods  storm  fire  \\\n",
              "0            0                     0                0       0      0     0   \n",
              "1            0                     0                1       0      1     0   \n",
              "\n",
              "   earthquake  cold  other_weather  direct_report  \n",
              "0           0     0              0              0  \n",
              "1           0     0              0              0  \n",
              "\n",
              "[2 rows x 40 columns]"
            ],
            "text/html": [
              "\n",
              "  <div id=\"df-6967f38d-7345-4a3e-8aec-0c7698682606\">\n",
              "    <div class=\"colab-df-container\">\n",
              "      <div>\n",
              "<style scoped>\n",
              "    .dataframe tbody tr th:only-of-type {\n",
              "        vertical-align: middle;\n",
              "    }\n",
              "\n",
              "    .dataframe tbody tr th {\n",
              "        vertical-align: top;\n",
              "    }\n",
              "\n",
              "    .dataframe thead th {\n",
              "        text-align: right;\n",
              "    }\n",
              "</style>\n",
              "<table border=\"1\" class=\"dataframe\">\n",
              "  <thead>\n",
              "    <tr style=\"text-align: right;\">\n",
              "      <th></th>\n",
              "      <th>id</th>\n",
              "      <th>message</th>\n",
              "      <th>original</th>\n",
              "      <th>genre</th>\n",
              "      <th>related</th>\n",
              "      <th>request</th>\n",
              "      <th>offer</th>\n",
              "      <th>aid_related</th>\n",
              "      <th>medical_help</th>\n",
              "      <th>medical_products</th>\n",
              "      <th>...</th>\n",
              "      <th>aid_centers</th>\n",
              "      <th>other_infrastructure</th>\n",
              "      <th>weather_related</th>\n",
              "      <th>floods</th>\n",
              "      <th>storm</th>\n",
              "      <th>fire</th>\n",
              "      <th>earthquake</th>\n",
              "      <th>cold</th>\n",
              "      <th>other_weather</th>\n",
              "      <th>direct_report</th>\n",
              "    </tr>\n",
              "  </thead>\n",
              "  <tbody>\n",
              "    <tr>\n",
              "      <th>0</th>\n",
              "      <td>2</td>\n",
              "      <td>Weather update - a cold front from Cuba that c...</td>\n",
              "      <td>Un front froid se retrouve sur Cuba ce matin. ...</td>\n",
              "      <td>direct</td>\n",
              "      <td>1</td>\n",
              "      <td>0</td>\n",
              "      <td>0</td>\n",
              "      <td>0</td>\n",
              "      <td>0</td>\n",
              "      <td>0</td>\n",
              "      <td>...</td>\n",
              "      <td>0</td>\n",
              "      <td>0</td>\n",
              "      <td>0</td>\n",
              "      <td>0</td>\n",
              "      <td>0</td>\n",
              "      <td>0</td>\n",
              "      <td>0</td>\n",
              "      <td>0</td>\n",
              "      <td>0</td>\n",
              "      <td>0</td>\n",
              "    </tr>\n",
              "    <tr>\n",
              "      <th>1</th>\n",
              "      <td>7</td>\n",
              "      <td>Is the Hurricane over or is it not over</td>\n",
              "      <td>Cyclone nan fini osinon li pa fini</td>\n",
              "      <td>direct</td>\n",
              "      <td>1</td>\n",
              "      <td>0</td>\n",
              "      <td>0</td>\n",
              "      <td>1</td>\n",
              "      <td>0</td>\n",
              "      <td>0</td>\n",
              "      <td>...</td>\n",
              "      <td>0</td>\n",
              "      <td>0</td>\n",
              "      <td>1</td>\n",
              "      <td>0</td>\n",
              "      <td>1</td>\n",
              "      <td>0</td>\n",
              "      <td>0</td>\n",
              "      <td>0</td>\n",
              "      <td>0</td>\n",
              "      <td>0</td>\n",
              "    </tr>\n",
              "  </tbody>\n",
              "</table>\n",
              "<p>2 rows × 40 columns</p>\n",
              "</div>\n",
              "      <button class=\"colab-df-convert\" onclick=\"convertToInteractive('df-6967f38d-7345-4a3e-8aec-0c7698682606')\"\n",
              "              title=\"Convert this dataframe to an interactive table.\"\n",
              "              style=\"display:none;\">\n",
              "        \n",
              "  <svg xmlns=\"http://www.w3.org/2000/svg\" height=\"24px\"viewBox=\"0 0 24 24\"\n",
              "       width=\"24px\">\n",
              "    <path d=\"M0 0h24v24H0V0z\" fill=\"none\"/>\n",
              "    <path d=\"M18.56 5.44l.94 2.06.94-2.06 2.06-.94-2.06-.94-.94-2.06-.94 2.06-2.06.94zm-11 1L8.5 8.5l.94-2.06 2.06-.94-2.06-.94L8.5 2.5l-.94 2.06-2.06.94zm10 10l.94 2.06.94-2.06 2.06-.94-2.06-.94-.94-2.06-.94 2.06-2.06.94z\"/><path d=\"M17.41 7.96l-1.37-1.37c-.4-.4-.92-.59-1.43-.59-.52 0-1.04.2-1.43.59L10.3 9.45l-7.72 7.72c-.78.78-.78 2.05 0 2.83L4 21.41c.39.39.9.59 1.41.59.51 0 1.02-.2 1.41-.59l7.78-7.78 2.81-2.81c.8-.78.8-2.07 0-2.86zM5.41 20L4 18.59l7.72-7.72 1.47 1.35L5.41 20z\"/>\n",
              "  </svg>\n",
              "      </button>\n",
              "      \n",
              "  <style>\n",
              "    .colab-df-container {\n",
              "      display:flex;\n",
              "      flex-wrap:wrap;\n",
              "      gap: 12px;\n",
              "    }\n",
              "\n",
              "    .colab-df-convert {\n",
              "      background-color: #E8F0FE;\n",
              "      border: none;\n",
              "      border-radius: 50%;\n",
              "      cursor: pointer;\n",
              "      display: none;\n",
              "      fill: #1967D2;\n",
              "      height: 32px;\n",
              "      padding: 0 0 0 0;\n",
              "      width: 32px;\n",
              "    }\n",
              "\n",
              "    .colab-df-convert:hover {\n",
              "      background-color: #E2EBFA;\n",
              "      box-shadow: 0px 1px 2px rgba(60, 64, 67, 0.3), 0px 1px 3px 1px rgba(60, 64, 67, 0.15);\n",
              "      fill: #174EA6;\n",
              "    }\n",
              "\n",
              "    [theme=dark] .colab-df-convert {\n",
              "      background-color: #3B4455;\n",
              "      fill: #D2E3FC;\n",
              "    }\n",
              "\n",
              "    [theme=dark] .colab-df-convert:hover {\n",
              "      background-color: #434B5C;\n",
              "      box-shadow: 0px 1px 3px 1px rgba(0, 0, 0, 0.15);\n",
              "      filter: drop-shadow(0px 1px 2px rgba(0, 0, 0, 0.3));\n",
              "      fill: #FFFFFF;\n",
              "    }\n",
              "  </style>\n",
              "\n",
              "      <script>\n",
              "        const buttonEl =\n",
              "          document.querySelector('#df-6967f38d-7345-4a3e-8aec-0c7698682606 button.colab-df-convert');\n",
              "        buttonEl.style.display =\n",
              "          google.colab.kernel.accessAllowed ? 'block' : 'none';\n",
              "\n",
              "        async function convertToInteractive(key) {\n",
              "          const element = document.querySelector('#df-6967f38d-7345-4a3e-8aec-0c7698682606');\n",
              "          const dataTable =\n",
              "            await google.colab.kernel.invokeFunction('convertToInteractive',\n",
              "                                                     [key], {});\n",
              "          if (!dataTable) return;\n",
              "\n",
              "          const docLinkHtml = 'Like what you see? Visit the ' +\n",
              "            '<a target=\"_blank\" href=https://colab.research.google.com/notebooks/data_table.ipynb>data table notebook</a>'\n",
              "            + ' to learn more about interactive tables.';\n",
              "          element.innerHTML = '';\n",
              "          dataTable['output_type'] = 'display_data';\n",
              "          await google.colab.output.renderOutput(dataTable, element);\n",
              "          const docLink = document.createElement('div');\n",
              "          docLink.innerHTML = docLinkHtml;\n",
              "          element.appendChild(docLink);\n",
              "        }\n",
              "      </script>\n",
              "    </div>\n",
              "  </div>\n",
              "  "
            ]
          },
          "metadata": {},
          "execution_count": 19
        }
      ],
      "source": [
        "df.head(2)"
      ]
    },
    {
      "cell_type": "markdown",
      "id": "d2a5efa8",
      "metadata": {
        "id": "d2a5efa8"
      },
      "source": [
        "### Removing duplicates and NaN rows, if any"
      ]
    },
    {
      "cell_type": "code",
      "execution_count": null,
      "id": "9d3bb930",
      "metadata": {
        "id": "9d3bb930",
        "outputId": "f7d8af5a-cac3-4f30-e841-fe70c7fce786",
        "colab": {
          "base_uri": "https://localhost:8080/"
        }
      },
      "outputs": [
        {
          "output_type": "execute_result",
          "data": {
            "text/plain": [
              "171"
            ]
          },
          "metadata": {},
          "execution_count": 20
        }
      ],
      "source": [
        "# checking for duplicate rows in df\n",
        "df.duplicated().sum()"
      ]
    },
    {
      "cell_type": "code",
      "execution_count": null,
      "id": "49d2aae7",
      "metadata": {
        "id": "49d2aae7"
      },
      "outputs": [],
      "source": [
        "# drop duplicates\n",
        "df.drop_duplicates(keep='first', inplace=True)"
      ]
    },
    {
      "cell_type": "code",
      "execution_count": null,
      "id": "53df4966",
      "metadata": {
        "id": "53df4966"
      },
      "outputs": [],
      "source": [
        "# drop NaN messages\n",
        "df.dropna(subset=[\"message\"], axis=0, inplace=True) # drop the row"
      ]
    },
    {
      "cell_type": "code",
      "execution_count": null,
      "id": "07856481",
      "metadata": {
        "id": "07856481"
      },
      "outputs": [],
      "source": [
        "# drop the id and original columns as they are not useful for the learning problem\n",
        "df.drop([\"id\", \"original\"], axis=1, inplace=True)"
      ]
    },
    {
      "cell_type": "markdown",
      "id": "a97a68a1",
      "metadata": {
        "id": "a97a68a1"
      },
      "source": [
        "### Saving to a database\n",
        "\n",
        "As part of this project's simulated scenario, we'll use sqlite and save the dataframe to a db."
      ]
    },
    {
      "cell_type": "code",
      "execution_count": null,
      "id": "220d3a98",
      "metadata": {
        "id": "220d3a98"
      },
      "outputs": [],
      "source": [
        "database_filename = \"disaster_db\"\n",
        "\n",
        "engine = create_engine('sqlite:///'+ database_filename)\n",
        "df.to_sql('messages', engine, if_exists=\"replace\", index=False)"
      ]
    },
    {
      "cell_type": "markdown",
      "id": "8b83eb05",
      "metadata": {
        "id": "8b83eb05"
      },
      "source": [
        "# 4. Machine Learning Pipeline\n",
        "\n",
        "Let's start by loading the data back form our database:"
      ]
    },
    {
      "cell_type": "code",
      "execution_count": null,
      "id": "da77a0f5",
      "metadata": {
        "id": "da77a0f5"
      },
      "outputs": [],
      "source": [
        "import re\n",
        "\n",
        "import nltk\n",
        "# uncomment below if NLTK data needs to be downloaded\n",
        "nltk.download(['punkt', 'wordnet'], quiet=True)\n",
        "nltk.download('stopwords', quiet=True)\n",
        "nltk.download('omw-1.4', quiet=True)\n",
        "from nltk.tokenize import word_tokenize\n",
        "from nltk.stem import WordNetLemmatizer\n",
        "from nltk.corpus import stopwords\n",
        "\n",
        "from xgboost import XGBClassifier\n",
        "\n",
        "from sklearn.model_selection import train_test_split, GridSearchCV\n",
        "from sklearn.pipeline import Pipeline\n",
        "from sklearn.feature_extraction.text import CountVectorizer, TfidfTransformer\n",
        "from sklearn.metrics import classification_report, accuracy_score\n",
        "from sklearn.multioutput import MultiOutputClassifier"
      ]
    },
    {
      "cell_type": "code",
      "execution_count": null,
      "id": "7d9a8813",
      "metadata": {
        "id": "7d9a8813"
      },
      "outputs": [],
      "source": [
        "engine = create_engine('sqlite:///' + database_filename)\n",
        "df = pd.read_sql_query('select * from messages', engine)\n",
        "# the training data is a numpy array of all messages\n",
        "X = df['message'].values\n",
        "# the labels are all the different categories\n",
        "Y = df.drop(columns=['message','genre'], axis=1)\n",
        "category_names = Y.columns"
      ]
    },
    {
      "cell_type": "code",
      "execution_count": null,
      "id": "41d74b65",
      "metadata": {
        "id": "41d74b65",
        "outputId": "658ee11f-d97b-4d29-c6ac-e2c0bbdf924e",
        "colab": {
          "base_uri": "https://localhost:8080/"
        }
      },
      "outputs": [
        {
          "output_type": "execute_result",
          "data": {
            "text/plain": [
              "26215"
            ]
          },
          "metadata": {},
          "execution_count": 27
        }
      ],
      "source": [
        "len(X)"
      ]
    },
    {
      "cell_type": "code",
      "execution_count": null,
      "id": "2b08224c",
      "metadata": {
        "id": "2b08224c",
        "outputId": "0d4dc837-7e1b-4aa2-ecaf-2dd6ec6723b0",
        "colab": {
          "base_uri": "https://localhost:8080/"
        }
      },
      "outputs": [
        {
          "output_type": "execute_result",
          "data": {
            "text/plain": [
              "array(['Weather update - a cold front from Cuba that could pass over Haiti',\n",
              "       'Is the Hurricane over or is it not over',\n",
              "       'Looking for someone but no name',\n",
              "       'UN reports Leogane 80-90 destroyed. Only Hospital St. Croix functioning. Needs supplies desperately.',\n",
              "       'says: west side of Haiti, rest of the country today and tonight'],\n",
              "      dtype=object)"
            ]
          },
          "metadata": {},
          "execution_count": 28
        }
      ],
      "source": [
        "X[:5]"
      ]
    },
    {
      "cell_type": "code",
      "execution_count": null,
      "id": "0c8e49a9",
      "metadata": {
        "id": "0c8e49a9",
        "outputId": "61bb07ca-7ee2-47bb-eb22-22408f3ae2eb",
        "colab": {
          "base_uri": "https://localhost:8080/",
          "height": 300
        }
      },
      "outputs": [
        {
          "output_type": "execute_result",
          "data": {
            "text/plain": [
              "   related  request  offer  aid_related  medical_help  medical_products  \\\n",
              "0        1        0      0            0             0                 0   \n",
              "1        1        0      0            1             0                 0   \n",
              "2        1        0      0            0             0                 0   \n",
              "3        1        1      0            1             0                 1   \n",
              "4        1        0      0            0             0                 0   \n",
              "\n",
              "   search_and_rescue  security  military  child_alone  ...  aid_centers  \\\n",
              "0                  0         0         0            0  ...            0   \n",
              "1                  0         0         0            0  ...            0   \n",
              "2                  0         0         0            0  ...            0   \n",
              "3                  0         0         0            0  ...            0   \n",
              "4                  0         0         0            0  ...            0   \n",
              "\n",
              "   other_infrastructure  weather_related  floods  storm  fire  earthquake  \\\n",
              "0                     0                0       0      0     0           0   \n",
              "1                     0                1       0      1     0           0   \n",
              "2                     0                0       0      0     0           0   \n",
              "3                     0                0       0      0     0           0   \n",
              "4                     0                0       0      0     0           0   \n",
              "\n",
              "   cold  other_weather  direct_report  \n",
              "0     0              0              0  \n",
              "1     0              0              0  \n",
              "2     0              0              0  \n",
              "3     0              0              0  \n",
              "4     0              0              0  \n",
              "\n",
              "[5 rows x 36 columns]"
            ],
            "text/html": [
              "\n",
              "  <div id=\"df-1f04eae9-f58b-43e5-becb-b0c2b45dfefb\">\n",
              "    <div class=\"colab-df-container\">\n",
              "      <div>\n",
              "<style scoped>\n",
              "    .dataframe tbody tr th:only-of-type {\n",
              "        vertical-align: middle;\n",
              "    }\n",
              "\n",
              "    .dataframe tbody tr th {\n",
              "        vertical-align: top;\n",
              "    }\n",
              "\n",
              "    .dataframe thead th {\n",
              "        text-align: right;\n",
              "    }\n",
              "</style>\n",
              "<table border=\"1\" class=\"dataframe\">\n",
              "  <thead>\n",
              "    <tr style=\"text-align: right;\">\n",
              "      <th></th>\n",
              "      <th>related</th>\n",
              "      <th>request</th>\n",
              "      <th>offer</th>\n",
              "      <th>aid_related</th>\n",
              "      <th>medical_help</th>\n",
              "      <th>medical_products</th>\n",
              "      <th>search_and_rescue</th>\n",
              "      <th>security</th>\n",
              "      <th>military</th>\n",
              "      <th>child_alone</th>\n",
              "      <th>...</th>\n",
              "      <th>aid_centers</th>\n",
              "      <th>other_infrastructure</th>\n",
              "      <th>weather_related</th>\n",
              "      <th>floods</th>\n",
              "      <th>storm</th>\n",
              "      <th>fire</th>\n",
              "      <th>earthquake</th>\n",
              "      <th>cold</th>\n",
              "      <th>other_weather</th>\n",
              "      <th>direct_report</th>\n",
              "    </tr>\n",
              "  </thead>\n",
              "  <tbody>\n",
              "    <tr>\n",
              "      <th>0</th>\n",
              "      <td>1</td>\n",
              "      <td>0</td>\n",
              "      <td>0</td>\n",
              "      <td>0</td>\n",
              "      <td>0</td>\n",
              "      <td>0</td>\n",
              "      <td>0</td>\n",
              "      <td>0</td>\n",
              "      <td>0</td>\n",
              "      <td>0</td>\n",
              "      <td>...</td>\n",
              "      <td>0</td>\n",
              "      <td>0</td>\n",
              "      <td>0</td>\n",
              "      <td>0</td>\n",
              "      <td>0</td>\n",
              "      <td>0</td>\n",
              "      <td>0</td>\n",
              "      <td>0</td>\n",
              "      <td>0</td>\n",
              "      <td>0</td>\n",
              "    </tr>\n",
              "    <tr>\n",
              "      <th>1</th>\n",
              "      <td>1</td>\n",
              "      <td>0</td>\n",
              "      <td>0</td>\n",
              "      <td>1</td>\n",
              "      <td>0</td>\n",
              "      <td>0</td>\n",
              "      <td>0</td>\n",
              "      <td>0</td>\n",
              "      <td>0</td>\n",
              "      <td>0</td>\n",
              "      <td>...</td>\n",
              "      <td>0</td>\n",
              "      <td>0</td>\n",
              "      <td>1</td>\n",
              "      <td>0</td>\n",
              "      <td>1</td>\n",
              "      <td>0</td>\n",
              "      <td>0</td>\n",
              "      <td>0</td>\n",
              "      <td>0</td>\n",
              "      <td>0</td>\n",
              "    </tr>\n",
              "    <tr>\n",
              "      <th>2</th>\n",
              "      <td>1</td>\n",
              "      <td>0</td>\n",
              "      <td>0</td>\n",
              "      <td>0</td>\n",
              "      <td>0</td>\n",
              "      <td>0</td>\n",
              "      <td>0</td>\n",
              "      <td>0</td>\n",
              "      <td>0</td>\n",
              "      <td>0</td>\n",
              "      <td>...</td>\n",
              "      <td>0</td>\n",
              "      <td>0</td>\n",
              "      <td>0</td>\n",
              "      <td>0</td>\n",
              "      <td>0</td>\n",
              "      <td>0</td>\n",
              "      <td>0</td>\n",
              "      <td>0</td>\n",
              "      <td>0</td>\n",
              "      <td>0</td>\n",
              "    </tr>\n",
              "    <tr>\n",
              "      <th>3</th>\n",
              "      <td>1</td>\n",
              "      <td>1</td>\n",
              "      <td>0</td>\n",
              "      <td>1</td>\n",
              "      <td>0</td>\n",
              "      <td>1</td>\n",
              "      <td>0</td>\n",
              "      <td>0</td>\n",
              "      <td>0</td>\n",
              "      <td>0</td>\n",
              "      <td>...</td>\n",
              "      <td>0</td>\n",
              "      <td>0</td>\n",
              "      <td>0</td>\n",
              "      <td>0</td>\n",
              "      <td>0</td>\n",
              "      <td>0</td>\n",
              "      <td>0</td>\n",
              "      <td>0</td>\n",
              "      <td>0</td>\n",
              "      <td>0</td>\n",
              "    </tr>\n",
              "    <tr>\n",
              "      <th>4</th>\n",
              "      <td>1</td>\n",
              "      <td>0</td>\n",
              "      <td>0</td>\n",
              "      <td>0</td>\n",
              "      <td>0</td>\n",
              "      <td>0</td>\n",
              "      <td>0</td>\n",
              "      <td>0</td>\n",
              "      <td>0</td>\n",
              "      <td>0</td>\n",
              "      <td>...</td>\n",
              "      <td>0</td>\n",
              "      <td>0</td>\n",
              "      <td>0</td>\n",
              "      <td>0</td>\n",
              "      <td>0</td>\n",
              "      <td>0</td>\n",
              "      <td>0</td>\n",
              "      <td>0</td>\n",
              "      <td>0</td>\n",
              "      <td>0</td>\n",
              "    </tr>\n",
              "  </tbody>\n",
              "</table>\n",
              "<p>5 rows × 36 columns</p>\n",
              "</div>\n",
              "      <button class=\"colab-df-convert\" onclick=\"convertToInteractive('df-1f04eae9-f58b-43e5-becb-b0c2b45dfefb')\"\n",
              "              title=\"Convert this dataframe to an interactive table.\"\n",
              "              style=\"display:none;\">\n",
              "        \n",
              "  <svg xmlns=\"http://www.w3.org/2000/svg\" height=\"24px\"viewBox=\"0 0 24 24\"\n",
              "       width=\"24px\">\n",
              "    <path d=\"M0 0h24v24H0V0z\" fill=\"none\"/>\n",
              "    <path d=\"M18.56 5.44l.94 2.06.94-2.06 2.06-.94-2.06-.94-.94-2.06-.94 2.06-2.06.94zm-11 1L8.5 8.5l.94-2.06 2.06-.94-2.06-.94L8.5 2.5l-.94 2.06-2.06.94zm10 10l.94 2.06.94-2.06 2.06-.94-2.06-.94-.94-2.06-.94 2.06-2.06.94z\"/><path d=\"M17.41 7.96l-1.37-1.37c-.4-.4-.92-.59-1.43-.59-.52 0-1.04.2-1.43.59L10.3 9.45l-7.72 7.72c-.78.78-.78 2.05 0 2.83L4 21.41c.39.39.9.59 1.41.59.51 0 1.02-.2 1.41-.59l7.78-7.78 2.81-2.81c.8-.78.8-2.07 0-2.86zM5.41 20L4 18.59l7.72-7.72 1.47 1.35L5.41 20z\"/>\n",
              "  </svg>\n",
              "      </button>\n",
              "      \n",
              "  <style>\n",
              "    .colab-df-container {\n",
              "      display:flex;\n",
              "      flex-wrap:wrap;\n",
              "      gap: 12px;\n",
              "    }\n",
              "\n",
              "    .colab-df-convert {\n",
              "      background-color: #E8F0FE;\n",
              "      border: none;\n",
              "      border-radius: 50%;\n",
              "      cursor: pointer;\n",
              "      display: none;\n",
              "      fill: #1967D2;\n",
              "      height: 32px;\n",
              "      padding: 0 0 0 0;\n",
              "      width: 32px;\n",
              "    }\n",
              "\n",
              "    .colab-df-convert:hover {\n",
              "      background-color: #E2EBFA;\n",
              "      box-shadow: 0px 1px 2px rgba(60, 64, 67, 0.3), 0px 1px 3px 1px rgba(60, 64, 67, 0.15);\n",
              "      fill: #174EA6;\n",
              "    }\n",
              "\n",
              "    [theme=dark] .colab-df-convert {\n",
              "      background-color: #3B4455;\n",
              "      fill: #D2E3FC;\n",
              "    }\n",
              "\n",
              "    [theme=dark] .colab-df-convert:hover {\n",
              "      background-color: #434B5C;\n",
              "      box-shadow: 0px 1px 3px 1px rgba(0, 0, 0, 0.15);\n",
              "      filter: drop-shadow(0px 1px 2px rgba(0, 0, 0, 0.3));\n",
              "      fill: #FFFFFF;\n",
              "    }\n",
              "  </style>\n",
              "\n",
              "      <script>\n",
              "        const buttonEl =\n",
              "          document.querySelector('#df-1f04eae9-f58b-43e5-becb-b0c2b45dfefb button.colab-df-convert');\n",
              "        buttonEl.style.display =\n",
              "          google.colab.kernel.accessAllowed ? 'block' : 'none';\n",
              "\n",
              "        async function convertToInteractive(key) {\n",
              "          const element = document.querySelector('#df-1f04eae9-f58b-43e5-becb-b0c2b45dfefb');\n",
              "          const dataTable =\n",
              "            await google.colab.kernel.invokeFunction('convertToInteractive',\n",
              "                                                     [key], {});\n",
              "          if (!dataTable) return;\n",
              "\n",
              "          const docLinkHtml = 'Like what you see? Visit the ' +\n",
              "            '<a target=\"_blank\" href=https://colab.research.google.com/notebooks/data_table.ipynb>data table notebook</a>'\n",
              "            + ' to learn more about interactive tables.';\n",
              "          element.innerHTML = '';\n",
              "          dataTable['output_type'] = 'display_data';\n",
              "          await google.colab.output.renderOutput(dataTable, element);\n",
              "          const docLink = document.createElement('div');\n",
              "          docLink.innerHTML = docLinkHtml;\n",
              "          element.appendChild(docLink);\n",
              "        }\n",
              "      </script>\n",
              "    </div>\n",
              "  </div>\n",
              "  "
            ]
          },
          "metadata": {},
          "execution_count": 29
        }
      ],
      "source": [
        "Y.head()"
      ]
    },
    {
      "cell_type": "markdown",
      "id": "bc519dbe",
      "metadata": {
        "id": "bc519dbe"
      },
      "source": [
        "### Splitting the dataset into train/test sets"
      ]
    },
    {
      "cell_type": "code",
      "execution_count": null,
      "id": "c99c7052",
      "metadata": {
        "id": "c99c7052"
      },
      "outputs": [],
      "source": [
        "X_train, X_test, y_train, y_test = train_test_split(X, Y, test_size=0.2)"
      ]
    },
    {
      "cell_type": "code",
      "execution_count": null,
      "id": "d74eed0a",
      "metadata": {
        "id": "d74eed0a",
        "outputId": "2ef25361-d169-49c9-cb37-868545c278f8",
        "colab": {
          "base_uri": "https://localhost:8080/"
        }
      },
      "outputs": [
        {
          "output_type": "stream",
          "name": "stdout",
          "text": [
            "20972 5243\n"
          ]
        }
      ],
      "source": [
        "print(len(X_train), len(X_test))"
      ]
    },
    {
      "cell_type": "markdown",
      "id": "22ef94ea",
      "metadata": {
        "id": "22ef94ea"
      },
      "source": [
        "### Preprocessing the messages texts\n",
        "\n",
        "For the classifier to perform well, we need to preprocess the disaster message texts to standardize and tokenize them. We can define a function to do this, which can be used later when defining our model pipeline:"
      ]
    },
    {
      "cell_type": "code",
      "execution_count": null,
      "id": "3fe3bc48",
      "metadata": {
        "id": "3fe3bc48"
      },
      "outputs": [],
      "source": [
        "punctuation_regex = re.compile(r\"[^\\w\\s]\")\n",
        "stopwords = stop_words = stopwords.words('english')\n",
        "wordnet_lemmatizer = WordNetLemmatizer()\n",
        "pos_tags_to_lemmatize = [\"n\", \"v\"]"
      ]
    },
    {
      "cell_type": "code",
      "execution_count": null,
      "id": "8076981a",
      "metadata": {
        "id": "8076981a"
      },
      "outputs": [],
      "source": [
        "def tokenize(text: str) -> list:\n",
        "    \"\"\"\n",
        "    Tokenizes a given text.\n",
        "    Args:\n",
        "        text: text string\n",
        "    Returns:\n",
        "        tokens: list of tokens\n",
        "    \"\"\"\n",
        "    # lowercase string and remove punctuation\n",
        "    text = punctuation_regex.sub(\" \", text.lower()).strip()\n",
        "    # tokenize text\n",
        "    tokens = [token for token in word_tokenize(text)]\n",
        "    # lemmatize text based on pos tags\n",
        "    for pos_tag in pos_tags_to_lemmatize:\n",
        "        tokens = [wordnet_lemmatizer.lemmatize(token, pos=pos_tag) for token in word_tokenize(text)]\n",
        "    # remove stopwords\n",
        "    tokens = [token for token in tokens if token not in stopwords]\n",
        "    return tokens"
      ]
    },
    {
      "cell_type": "markdown",
      "id": "7b287b42",
      "metadata": {
        "id": "7b287b42"
      },
      "source": [
        "### Building the model pipeline"
      ]
    },
    {
      "cell_type": "code",
      "execution_count": null,
      "id": "198a73e0",
      "metadata": {
        "id": "198a73e0"
      },
      "outputs": [],
      "source": [
        "def build_model() -> GridSearchCV:\n",
        "    \"\"\"\n",
        "    Builds classification model \n",
        "    Returns:\n",
        "        cv: model\n",
        "    \"\"\"\n",
        "\n",
        "    pipeline = Pipeline([\n",
        "        ('vect', CountVectorizer(tokenizer=tokenize)),\n",
        "        ('tfidf', TfidfTransformer()),\n",
        "        ('clf', MultiOutputClassifier(XGBClassifier(learning_rate=0.1)))\n",
        "    ])\n",
        "\n",
        "    parameters = {\n",
        "        \"clf__estimator__max_depth\": [8, 16],\n",
        "        \"clf__estimator__colsample_bytree\":[0.5, 0.75]\n",
        "    }\n",
        "\n",
        "    cv = GridSearchCV(pipeline, cv=3, param_grid=parameters, n_jobs=1, scoring=\"f1_micro\")\n",
        "    return cv"
      ]
    },
    {
      "cell_type": "markdown",
      "id": "f4c50976",
      "metadata": {
        "id": "f4c50976"
      },
      "source": [
        "### Fitting the model"
      ]
    },
    {
      "cell_type": "code",
      "execution_count": null,
      "id": "5f2ec635",
      "metadata": {
        "id": "5f2ec635"
      },
      "outputs": [],
      "source": [
        "model = build_model()"
      ]
    },
    {
      "cell_type": "code",
      "execution_count": null,
      "id": "efde03a9",
      "metadata": {
        "id": "efde03a9",
        "outputId": "8091e36c-423f-47a2-c984-cd79fb65b794",
        "colab": {
          "base_uri": "https://localhost:8080/"
        }
      },
      "outputs": [
        {
          "output_type": "execute_result",
          "data": {
            "text/plain": [
              "GridSearchCV(cv=3,\n",
              "             estimator=Pipeline(steps=[('vect',\n",
              "                                        CountVectorizer(tokenizer=<function tokenize at 0x7f5f74575820>)),\n",
              "                                       ('tfidf', TfidfTransformer()),\n",
              "                                       ('clf',\n",
              "                                        MultiOutputClassifier(estimator=XGBClassifier()))]),\n",
              "             n_jobs=1,\n",
              "             param_grid={'clf__estimator__colsample_bytree': [0.5, 0.75],\n",
              "                         'clf__estimator__max_depth': [8, 16]},\n",
              "             scoring='f1_micro')"
            ]
          },
          "metadata": {},
          "execution_count": 36
        }
      ],
      "source": [
        "model.fit(X_train, y_train)"
      ]
    },
    {
      "cell_type": "markdown",
      "id": "99a13186",
      "metadata": {
        "id": "99a13186"
      },
      "source": [
        "### Evaluating the model"
      ]
    },
    {
      "cell_type": "code",
      "execution_count": null,
      "id": "1704888e",
      "metadata": {
        "id": "1704888e",
        "outputId": "d1a82ea7-1135-4357-a9eb-f37070ff1655",
        "colab": {
          "base_uri": "https://localhost:8080/"
        }
      },
      "outputs": [
        {
          "output_type": "stream",
          "name": "stdout",
          "text": [
            "                        precision    recall  f1-score   support\n",
            "\n",
            "               related       0.96      0.83      0.89      4657\n",
            "               request       0.56      0.78      0.65       644\n",
            "                 offer       0.00      0.00      0.00         0\n",
            "           aid_related       0.67      0.77      0.72      1867\n",
            "          medical_help       0.26      0.60      0.37       181\n",
            "      medical_products       0.32      0.74      0.45       120\n",
            "     search_and_rescue       0.22      0.67      0.34        49\n",
            "              security       0.01      0.11      0.03         9\n",
            "              military       0.33      0.67      0.44        79\n",
            "           child_alone       0.00      0.00      0.00         0\n",
            "                 water       0.66      0.74      0.70       296\n",
            "                  food       0.78      0.79      0.78       585\n",
            "               shelter       0.60      0.74      0.66       351\n",
            "              clothing       0.53      0.76      0.62        58\n",
            "                 money       0.23      0.67      0.34        42\n",
            "        missing_people       0.14      0.73      0.24        11\n",
            "              refugees       0.24      0.56      0.34        68\n",
            "                 death       0.51      0.76      0.61       157\n",
            "             other_aid       0.15      0.53      0.23       193\n",
            "infrastructure_related       0.07      0.56      0.12        39\n",
            "             transport       0.26      0.84      0.40        74\n",
            "             buildings       0.42      0.70      0.53       154\n",
            "           electricity       0.25      0.56      0.34        48\n",
            "                 tools       0.00      0.00      0.00         0\n",
            "             hospitals       0.07      0.44      0.12         9\n",
            "                 shops       0.00      0.00      0.00         0\n",
            "           aid_centers       0.00      0.00      0.00         3\n",
            "  other_infrastructure       0.02      0.33      0.04        15\n",
            "       weather_related       0.69      0.85      0.76      1217\n",
            "                floods       0.59      0.86      0.70       286\n",
            "                 storm       0.66      0.75      0.70       440\n",
            "                  fire       0.27      0.74      0.40        23\n",
            "            earthquake       0.79      0.90      0.84       456\n",
            "                  cold       0.34      0.73      0.47        55\n",
            "         other_weather       0.12      0.48      0.19        67\n",
            "         direct_report       0.45      0.71      0.55       622\n",
            "\n",
            "             micro avg       0.61      0.79      0.69     12875\n",
            "             macro avg       0.34      0.58      0.40     12875\n",
            "          weighted avg       0.72      0.79      0.74     12875\n",
            "           samples avg       0.53      0.66      0.54     12875\n",
            "\n"
          ]
        }
      ],
      "source": [
        "y_preds = model.predict(X_test)\n",
        "print(classification_report(y_preds, y_test.values, target_names=category_names, zero_division=0))"
      ]
    },
    {
      "cell_type": "code",
      "execution_count": null,
      "id": "8f3c21c2",
      "metadata": {
        "id": "8f3c21c2",
        "outputId": "244c6b6b-575a-4f9e-ffb1-f4d76bcef8fc",
        "colab": {
          "base_uri": "https://localhost:8080/"
        }
      },
      "outputs": [
        {
          "output_type": "stream",
          "name": "stdout",
          "text": [
            "related                   0.815945\n",
            "request                   0.898341\n",
            "offer                     0.995041\n",
            "aid_related               0.781995\n",
            "medical_help              0.928285\n",
            "medical_products          0.957849\n",
            "search_and_rescue         0.975014\n",
            "security                  0.985123\n",
            "military                  0.974061\n",
            "child_alone               1.000000\n",
            "water                     0.963761\n",
            "food                      0.950792\n",
            "shelter                   0.949456\n",
            "clothing                  0.989891\n",
            "money                     0.979210\n",
            "missing_people            0.990082\n",
            "refugees                  0.971581\n",
            "death                     0.971200\n",
            "other_aid                 0.872401\n",
            "infrastructure_related    0.938013\n",
            "transport                 0.964906\n",
            "buildings                 0.963189\n",
            "electricity               0.980355\n",
            "tools                     0.992562\n",
            "hospitals                 0.988556\n",
            "shops                     0.995804\n",
            "aid_centers               0.986649\n",
            "other_infrastructure      0.957086\n",
            "weather_related           0.877932\n",
            "floods                    0.959756\n",
            "storm                     0.946023\n",
            "fire                      0.990082\n",
            "earthquake                0.970628\n",
            "cold                      0.982644\n",
            "other_weather             0.946595\n",
            "direct_report             0.862293\n",
            "dtype: float64\n"
          ]
        }
      ],
      "source": [
        "# collect accuracy scores in a dict\n",
        "category_name_2_accuracy_score = {}\n",
        "for i in range(len(category_names)):\n",
        "    category_name_2_accuracy_score[y_test.columns[i]] = accuracy_score(y_test.values[:,i],y_preds[:,i])\n",
        "print(pd.Series(category_name_2_accuracy_score))"
      ]
    },
    {
      "cell_type": "markdown",
      "id": "4be303d7",
      "metadata": {
        "id": "4be303d7"
      },
      "source": [
        "This is an imbalanced dataset, as most categories for a given message will be 0. The f1-score is a better metric of the model's performance."
      ]
    },
    {
      "cell_type": "markdown",
      "id": "2e2ab629",
      "metadata": {
        "id": "2e2ab629"
      },
      "source": [
        "### Predicting categories for new messages"
      ]
    },
    {
      "cell_type": "code",
      "execution_count": null,
      "id": "1169ca61",
      "metadata": {
        "id": "1169ca61"
      },
      "outputs": [],
      "source": [
        "def predict(text: str) -> list:\n",
        "    \"\"\"\n",
        "    Returns a list of predicted categories for the given text\n",
        "    Args:\n",
        "        text: text string\n",
        "    Returns:\n",
        "        predicted_categories: list of  categories\n",
        "    \"\"\"\n",
        "    preds = model.predict([text])\n",
        "    predicted_categories = [category for i, category in enumerate(y_test.columns) if preds[0][i] == 1]\n",
        "    return predicted_categories"
      ]
    },
    {
      "cell_type": "code",
      "execution_count": null,
      "id": "765296ea",
      "metadata": {
        "id": "765296ea",
        "outputId": "ee752a91-6262-46f1-86ad-94f4c3c1b4f3",
        "colab": {
          "base_uri": "https://localhost:8080/"
        }
      },
      "outputs": [
        {
          "output_type": "execute_result",
          "data": {
            "text/plain": [
              "['related',\n",
              " 'request',\n",
              " 'aid_related',\n",
              " 'search_and_rescue',\n",
              " 'food',\n",
              " 'shelter',\n",
              " 'weather_related',\n",
              " 'floods',\n",
              " 'direct_report']"
            ]
          },
          "metadata": {},
          "execution_count": 40
        }
      ],
      "source": [
        "predict(\"after the floods in our area we are trapped. we need food and shelter \")"
      ]
    },
    {
      "cell_type": "markdown",
      "id": "73dba0ac",
      "metadata": {
        "id": "73dba0ac"
      },
      "source": [
        "# 5. Further Improvements\n",
        "\n",
        "\n",
        "This notebook sticks to the basics in order to provide a good baseline model for this classification task. There is plenty of room for improvement here, including but not limited to:\n",
        "\n",
        "1. Using word embeddings (GloVe, word2vec) or even sentence embeddings (Univsersal Sentgence Encoder) to transform message text, instead of using a CountVectorizer. This should allow the model to generalize well to similar/unseen words and improve the model accuracy too.\n",
        "2. Some of the category column values like `related` and `child_alone` are highly skewed. We can look at adding more data for these categories.\n",
        "3. A Neural Network can be trained for this task. Better yet, a pre-trained state-of-the-art transformer based network can be fine tuned using the data available to us.\n",
        "4. Certain classification categories are \"noisy\" such as \"related\" or \"child alone\" (no positive examples). These can either be removed, or more data can be acquired that provides enough missing examples for such cases."
      ]
    },
    {
      "cell_type": "markdown",
      "id": "8a6ab476",
      "metadata": {
        "id": "8a6ab476"
      },
      "source": [
        "# 6. Summary\n",
        "\n",
        "In this project, we built an ETL pipeline to load messy and unsuitable-for-training data, clean and transform it, and save it to a database. We also built a ML pipeline to tokenize message text, and train an XGBoost classifier to classify messages into different categories. \n",
        "\n",
        "We stuck to the basics for building this classifier, and there's plenty of room for improvement in the future using modern NLP architectures."
      ]
    }
  ],
  "metadata": {
    "kernelspec": {
      "display_name": "Python 3 (ipykernel)",
      "language": "python",
      "name": "python3"
    },
    "language_info": {
      "codemirror_mode": {
        "name": "ipython",
        "version": 3
      },
      "file_extension": ".py",
      "mimetype": "text/x-python",
      "name": "python",
      "nbconvert_exporter": "python",
      "pygments_lexer": "ipython3",
      "version": "3.10.0"
    },
    "colab": {
      "provenance": []
    },
    "accelerator": "GPU",
    "gpuClass": "standard"
  },
  "nbformat": 4,
  "nbformat_minor": 5
}